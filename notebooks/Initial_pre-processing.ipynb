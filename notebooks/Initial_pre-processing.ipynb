{
 "cells": [
  {
   "cell_type": "markdown",
   "metadata": {},
   "source": [
    "Initial Pre-Processing notebook"
   ]
  },
  {
   "cell_type": "code",
   "execution_count": 2,
   "metadata": {},
   "outputs": [],
   "source": [
    "import pandas as pd\n",
    "import numpy as np\n",
    "import xml.etree.ElementTree as ET\n",
    "from collections import Counter\n",
    "from pprint import pprint\n",
    "# from Bio import Entrez\n",
    "import rpy2.robjects as ro\n",
    "from rpy2.robjects import pandas2ri, Formula\n",
    "from rpy2.robjects.conversion import localconverter\n",
    "from rpy2.robjects.packages import importr"
   ]
  },
  {
   "cell_type": "markdown",
   "metadata": {},
   "source": [
    "## GSE65682"
   ]
  },
  {
   "cell_type": "code",
   "execution_count": 30,
   "metadata": {},
   "outputs": [],
   "source": [
    "# design_raw = pd.read_csv('../data/GSE65682/phenodata.txt', sep='\\t')\n",
    "# xml = ET.parse('../data/GSE65682/GSE65682_family.xml')\n",
    "# ns = {'namespace':'http://www.ncbi.nlm.nih.gov/geo/info/MINiML'}\n",
    "# platform = pd.read_csv('../data/GSE65682/GPL13667-15572.txt', sep='\\t', index_col=0)\n",
    "exp = pd.read_csv('../example/exp.txt', sep='\\t')\n",
    "# root = xml.getroot()"
   ]
  },
  {
   "cell_type": "code",
   "execution_count": 32,
   "metadata": {},
   "outputs": [
    {
     "data": {
      "text/html": [
       "<div>\n",
       "<style scoped>\n",
       "    .dataframe tbody tr th:only-of-type {\n",
       "        vertical-align: middle;\n",
       "    }\n",
       "\n",
       "    .dataframe tbody tr th {\n",
       "        vertical-align: top;\n",
       "    }\n",
       "\n",
       "    .dataframe thead th {\n",
       "        text-align: right;\n",
       "    }\n",
       "</style>\n",
       "<table border=\"1\" class=\"dataframe\">\n",
       "  <thead>\n",
       "    <tr style=\"text-align: right;\">\n",
       "      <th></th>\n",
       "      <th>genes</th>\n",
       "      <th>GSM1602801_03_04_2013_B02_3270.CEL</th>\n",
       "      <th>GSM1602802_03_04_2013_B06_1793.CEL</th>\n",
       "      <th>GSM1602803_03_04_2013_B07_3252.CEL</th>\n",
       "      <th>GSM1602804_03_04_2013_B08_3242.CEL</th>\n",
       "      <th>GSM1602805_03_04_2013_C08_2736.CEL</th>\n",
       "      <th>GSM1602806_03_04_2013_E06_526.CEL</th>\n",
       "      <th>GSM1602807_03_04_2013_E09_hv59.CEL</th>\n",
       "      <th>GSM1602808_03_04_2013_F02_2618.CEL</th>\n",
       "      <th>GSM1602809_03_04_2013_F10_hv49.CEL</th>\n",
       "      <th>...</th>\n",
       "      <th>GSM1692494_27_03_2013_E07_1073.CEL</th>\n",
       "      <th>GSM1692495_27_03_2013_E10_2922677.CEL</th>\n",
       "      <th>GSM1692496_27_03_2013_E11_2989698.CEL</th>\n",
       "      <th>GSM1692497_27_03_2013_F01_2968378.CEL</th>\n",
       "      <th>GSM1692498_27_03_2013_F02_2904613.CEL</th>\n",
       "      <th>GSM1692499_27_03_2013_F09_3393.CEL</th>\n",
       "      <th>GSM1692501_27_03_2013_G02_935.CEL</th>\n",
       "      <th>GSM1692502_27_03_2013_G07_499.CEL</th>\n",
       "      <th>GSM1692503_27_03_2013_G08_3316.1.CEL</th>\n",
       "      <th>GSM1692504_27_03_2013_H02_3283.CEL</th>\n",
       "    </tr>\n",
       "  </thead>\n",
       "  <tbody>\n",
       "    <tr>\n",
       "      <th>0</th>\n",
       "      <td>11715100_at</td>\n",
       "      <td>2.167651</td>\n",
       "      <td>2.217742</td>\n",
       "      <td>2.167319</td>\n",
       "      <td>2.031671</td>\n",
       "      <td>2.340405</td>\n",
       "      <td>2.032680</td>\n",
       "      <td>2.213454</td>\n",
       "      <td>2.173260</td>\n",
       "      <td>2.293192</td>\n",
       "      <td>...</td>\n",
       "      <td>2.724034</td>\n",
       "      <td>3.126419</td>\n",
       "      <td>2.921860</td>\n",
       "      <td>2.579094</td>\n",
       "      <td>3.172682</td>\n",
       "      <td>2.141705</td>\n",
       "      <td>2.284317</td>\n",
       "      <td>2.338371</td>\n",
       "      <td>2.406765</td>\n",
       "      <td>2.472650</td>\n",
       "    </tr>\n",
       "    <tr>\n",
       "      <th>1</th>\n",
       "      <td>11715101_s_at</td>\n",
       "      <td>2.765675</td>\n",
       "      <td>2.323583</td>\n",
       "      <td>2.715749</td>\n",
       "      <td>2.657347</td>\n",
       "      <td>2.761333</td>\n",
       "      <td>2.577295</td>\n",
       "      <td>2.630158</td>\n",
       "      <td>2.653431</td>\n",
       "      <td>2.316426</td>\n",
       "      <td>...</td>\n",
       "      <td>2.651915</td>\n",
       "      <td>2.724911</td>\n",
       "      <td>2.398120</td>\n",
       "      <td>3.061678</td>\n",
       "      <td>2.249742</td>\n",
       "      <td>2.724024</td>\n",
       "      <td>2.455879</td>\n",
       "      <td>2.902131</td>\n",
       "      <td>2.820834</td>\n",
       "      <td>2.346937</td>\n",
       "    </tr>\n",
       "    <tr>\n",
       "      <th>2</th>\n",
       "      <td>11715102_x_at</td>\n",
       "      <td>2.375666</td>\n",
       "      <td>2.188650</td>\n",
       "      <td>2.406119</td>\n",
       "      <td>2.281674</td>\n",
       "      <td>2.122309</td>\n",
       "      <td>2.334668</td>\n",
       "      <td>2.315920</td>\n",
       "      <td>2.325296</td>\n",
       "      <td>2.319462</td>\n",
       "      <td>...</td>\n",
       "      <td>2.926233</td>\n",
       "      <td>2.875802</td>\n",
       "      <td>2.494554</td>\n",
       "      <td>2.616553</td>\n",
       "      <td>3.058945</td>\n",
       "      <td>2.338368</td>\n",
       "      <td>2.389344</td>\n",
       "      <td>2.827935</td>\n",
       "      <td>2.590062</td>\n",
       "      <td>2.639150</td>\n",
       "    </tr>\n",
       "    <tr>\n",
       "      <th>3</th>\n",
       "      <td>11715103_x_at</td>\n",
       "      <td>2.622201</td>\n",
       "      <td>2.131634</td>\n",
       "      <td>2.480848</td>\n",
       "      <td>2.744567</td>\n",
       "      <td>2.954394</td>\n",
       "      <td>2.617683</td>\n",
       "      <td>3.288098</td>\n",
       "      <td>2.618424</td>\n",
       "      <td>3.110793</td>\n",
       "      <td>...</td>\n",
       "      <td>2.466712</td>\n",
       "      <td>3.132406</td>\n",
       "      <td>2.795552</td>\n",
       "      <td>2.520526</td>\n",
       "      <td>3.193006</td>\n",
       "      <td>2.507180</td>\n",
       "      <td>2.439237</td>\n",
       "      <td>3.142155</td>\n",
       "      <td>2.541680</td>\n",
       "      <td>2.395692</td>\n",
       "    </tr>\n",
       "    <tr>\n",
       "      <th>4</th>\n",
       "      <td>11715104_s_at</td>\n",
       "      <td>2.206729</td>\n",
       "      <td>1.917760</td>\n",
       "      <td>2.032542</td>\n",
       "      <td>2.000861</td>\n",
       "      <td>2.099290</td>\n",
       "      <td>2.182521</td>\n",
       "      <td>2.272056</td>\n",
       "      <td>2.143504</td>\n",
       "      <td>1.833561</td>\n",
       "      <td>...</td>\n",
       "      <td>2.073241</td>\n",
       "      <td>3.068725</td>\n",
       "      <td>2.122303</td>\n",
       "      <td>2.055336</td>\n",
       "      <td>2.279677</td>\n",
       "      <td>2.131373</td>\n",
       "      <td>2.314353</td>\n",
       "      <td>2.308145</td>\n",
       "      <td>2.323319</td>\n",
       "      <td>2.396074</td>\n",
       "    </tr>\n",
       "  </tbody>\n",
       "</table>\n",
       "<p>5 rows × 803 columns</p>\n",
       "</div>"
      ],
      "text/plain": [
       "           genes  GSM1602801_03_04_2013_B02_3270.CEL  \\\n",
       "0    11715100_at                            2.167651   \n",
       "1  11715101_s_at                            2.765675   \n",
       "2  11715102_x_at                            2.375666   \n",
       "3  11715103_x_at                            2.622201   \n",
       "4  11715104_s_at                            2.206729   \n",
       "\n",
       "   GSM1602802_03_04_2013_B06_1793.CEL  GSM1602803_03_04_2013_B07_3252.CEL  \\\n",
       "0                            2.217742                            2.167319   \n",
       "1                            2.323583                            2.715749   \n",
       "2                            2.188650                            2.406119   \n",
       "3                            2.131634                            2.480848   \n",
       "4                            1.917760                            2.032542   \n",
       "\n",
       "   GSM1602804_03_04_2013_B08_3242.CEL  GSM1602805_03_04_2013_C08_2736.CEL  \\\n",
       "0                            2.031671                            2.340405   \n",
       "1                            2.657347                            2.761333   \n",
       "2                            2.281674                            2.122309   \n",
       "3                            2.744567                            2.954394   \n",
       "4                            2.000861                            2.099290   \n",
       "\n",
       "   GSM1602806_03_04_2013_E06_526.CEL  GSM1602807_03_04_2013_E09_hv59.CEL  \\\n",
       "0                           2.032680                            2.213454   \n",
       "1                           2.577295                            2.630158   \n",
       "2                           2.334668                            2.315920   \n",
       "3                           2.617683                            3.288098   \n",
       "4                           2.182521                            2.272056   \n",
       "\n",
       "   GSM1602808_03_04_2013_F02_2618.CEL  GSM1602809_03_04_2013_F10_hv49.CEL  \\\n",
       "0                            2.173260                            2.293192   \n",
       "1                            2.653431                            2.316426   \n",
       "2                            2.325296                            2.319462   \n",
       "3                            2.618424                            3.110793   \n",
       "4                            2.143504                            1.833561   \n",
       "\n",
       "   ...  GSM1692494_27_03_2013_E07_1073.CEL  \\\n",
       "0  ...                            2.724034   \n",
       "1  ...                            2.651915   \n",
       "2  ...                            2.926233   \n",
       "3  ...                            2.466712   \n",
       "4  ...                            2.073241   \n",
       "\n",
       "   GSM1692495_27_03_2013_E10_2922677.CEL  \\\n",
       "0                               3.126419   \n",
       "1                               2.724911   \n",
       "2                               2.875802   \n",
       "3                               3.132406   \n",
       "4                               3.068725   \n",
       "\n",
       "   GSM1692496_27_03_2013_E11_2989698.CEL  \\\n",
       "0                               2.921860   \n",
       "1                               2.398120   \n",
       "2                               2.494554   \n",
       "3                               2.795552   \n",
       "4                               2.122303   \n",
       "\n",
       "   GSM1692497_27_03_2013_F01_2968378.CEL  \\\n",
       "0                               2.579094   \n",
       "1                               3.061678   \n",
       "2                               2.616553   \n",
       "3                               2.520526   \n",
       "4                               2.055336   \n",
       "\n",
       "   GSM1692498_27_03_2013_F02_2904613.CEL  GSM1692499_27_03_2013_F09_3393.CEL  \\\n",
       "0                               3.172682                            2.141705   \n",
       "1                               2.249742                            2.724024   \n",
       "2                               3.058945                            2.338368   \n",
       "3                               3.193006                            2.507180   \n",
       "4                               2.279677                            2.131373   \n",
       "\n",
       "   GSM1692501_27_03_2013_G02_935.CEL  GSM1692502_27_03_2013_G07_499.CEL  \\\n",
       "0                           2.284317                           2.338371   \n",
       "1                           2.455879                           2.902131   \n",
       "2                           2.389344                           2.827935   \n",
       "3                           2.439237                           3.142155   \n",
       "4                           2.314353                           2.308145   \n",
       "\n",
       "   GSM1692503_27_03_2013_G08_3316.1.CEL  GSM1692504_27_03_2013_H02_3283.CEL  \n",
       "0                              2.406765                            2.472650  \n",
       "1                              2.820834                            2.346937  \n",
       "2                              2.590062                            2.639150  \n",
       "3                              2.541680                            2.395692  \n",
       "4                              2.323319                            2.396074  \n",
       "\n",
       "[5 rows x 803 columns]"
      ]
     },
     "execution_count": 32,
     "metadata": {},
     "output_type": "execute_result"
    }
   ],
   "source": [
    "exp.rename(columns={'Unnamed: 0':'genes'}, inplace=True)\n",
    "exp.head(5)"
   ]
  },
  {
   "cell_type": "code",
   "execution_count": 28,
   "metadata": {},
   "outputs": [],
   "source": [
    "import json\n",
    "from pprint import pprint\n",
    "\n",
    "with open('../example/entrez_id_to_hgnc_symbol.json') as f:\n",
    "    entrez_id_to_hgnc_symbol = json.load(f)\n",
    "# type(entrez_id_to_hgnc_symbol)\n",
    "exp['genes'] = exp['genes'].astype('str') \n",
    "exp['genes'] = exp['genes'].map(entrez_id_to_hgnc_symbol)"
   ]
  },
  {
   "cell_type": "code",
   "execution_count": 29,
   "metadata": {},
   "outputs": [
    {
     "data": {
      "text/html": [
       "<div>\n",
       "<style scoped>\n",
       "    .dataframe tbody tr th:only-of-type {\n",
       "        vertical-align: middle;\n",
       "    }\n",
       "\n",
       "    .dataframe tbody tr th {\n",
       "        vertical-align: top;\n",
       "    }\n",
       "\n",
       "    .dataframe thead th {\n",
       "        text-align: right;\n",
       "    }\n",
       "</style>\n",
       "<table border=\"1\" class=\"dataframe\">\n",
       "  <thead>\n",
       "    <tr style=\"text-align: right;\">\n",
       "      <th></th>\n",
       "      <th>genes</th>\n",
       "      <th>GSM1602801_03_04_2013_B02_3270.CEL</th>\n",
       "      <th>GSM1602802_03_04_2013_B06_1793.CEL</th>\n",
       "      <th>GSM1602803_03_04_2013_B07_3252.CEL</th>\n",
       "      <th>GSM1602804_03_04_2013_B08_3242.CEL</th>\n",
       "      <th>GSM1602805_03_04_2013_C08_2736.CEL</th>\n",
       "      <th>GSM1602806_03_04_2013_E06_526.CEL</th>\n",
       "      <th>GSM1602808_03_04_2013_F02_2618.CEL</th>\n",
       "      <th>GSM1602810_03_04_2013_G07_3147.CEL</th>\n",
       "      <th>GSM1602811_03_04_2013_H02_2404.CEL</th>\n",
       "      <th>...</th>\n",
       "      <th>GSM1692427_22_01_2013_B10_2739656.CEL</th>\n",
       "      <th>GSM1692429_22_01_2013_C02_2295511.CEL</th>\n",
       "      <th>GSM1692430_22_01_2013_C05_1550.CEL</th>\n",
       "      <th>GSM1692443_22_01_2013_F06_2337277.CEL</th>\n",
       "      <th>GSM1692452_22_01_2013_H08_2079564.CEL</th>\n",
       "      <th>GSM1692455_26_03_2013_A03_2792222.CEL</th>\n",
       "      <th>GSM1692482_27_03_2013_C03_2803146.CEL</th>\n",
       "      <th>GSM1692489_27_03_2013_D10_2849655.CEL</th>\n",
       "      <th>GSM1692492_27_03_2013_E04_2575353.CEL</th>\n",
       "      <th>GSM1692498_27_03_2013_F02_2904613.CEL</th>\n",
       "    </tr>\n",
       "  </thead>\n",
       "  <tbody>\n",
       "    <tr>\n",
       "      <th>0</th>\n",
       "      <td>H3C8</td>\n",
       "      <td>2.226389</td>\n",
       "      <td>2.306361</td>\n",
       "      <td>2.253123</td>\n",
       "      <td>2.123169</td>\n",
       "      <td>2.434243</td>\n",
       "      <td>2.151831</td>\n",
       "      <td>2.261930</td>\n",
       "      <td>2.286426</td>\n",
       "      <td>2.212464</td>\n",
       "      <td>...</td>\n",
       "      <td>2.529478</td>\n",
       "      <td>2.372678</td>\n",
       "      <td>2.450773</td>\n",
       "      <td>2.406044</td>\n",
       "      <td>2.574771</td>\n",
       "      <td>2.422820</td>\n",
       "      <td>2.494932</td>\n",
       "      <td>2.257758</td>\n",
       "      <td>2.327790</td>\n",
       "      <td>3.252404</td>\n",
       "    </tr>\n",
       "    <tr>\n",
       "      <th>1</th>\n",
       "      <td>H3C8</td>\n",
       "      <td>2.761263</td>\n",
       "      <td>2.359946</td>\n",
       "      <td>2.725688</td>\n",
       "      <td>2.657941</td>\n",
       "      <td>2.832263</td>\n",
       "      <td>2.603070</td>\n",
       "      <td>2.683711</td>\n",
       "      <td>2.391393</td>\n",
       "      <td>3.139401</td>\n",
       "      <td>...</td>\n",
       "      <td>2.535944</td>\n",
       "      <td>2.114600</td>\n",
       "      <td>2.356066</td>\n",
       "      <td>2.615030</td>\n",
       "      <td>2.586535</td>\n",
       "      <td>2.881207</td>\n",
       "      <td>3.740656</td>\n",
       "      <td>2.795182</td>\n",
       "      <td>2.889858</td>\n",
       "      <td>2.166293</td>\n",
       "    </tr>\n",
       "    <tr>\n",
       "      <th>2</th>\n",
       "      <td>H3C8</td>\n",
       "      <td>2.432933</td>\n",
       "      <td>2.224459</td>\n",
       "      <td>2.400713</td>\n",
       "      <td>2.311345</td>\n",
       "      <td>2.126898</td>\n",
       "      <td>2.358452</td>\n",
       "      <td>2.281713</td>\n",
       "      <td>2.518797</td>\n",
       "      <td>2.481215</td>\n",
       "      <td>...</td>\n",
       "      <td>2.531517</td>\n",
       "      <td>2.311668</td>\n",
       "      <td>2.286395</td>\n",
       "      <td>2.490969</td>\n",
       "      <td>3.044778</td>\n",
       "      <td>2.165541</td>\n",
       "      <td>3.202541</td>\n",
       "      <td>2.265927</td>\n",
       "      <td>2.538030</td>\n",
       "      <td>3.099365</td>\n",
       "    </tr>\n",
       "    <tr>\n",
       "      <th>3</th>\n",
       "      <td>TNFAIP8L1</td>\n",
       "      <td>2.700271</td>\n",
       "      <td>2.325374</td>\n",
       "      <td>2.495166</td>\n",
       "      <td>2.773752</td>\n",
       "      <td>3.007053</td>\n",
       "      <td>2.777180</td>\n",
       "      <td>2.839187</td>\n",
       "      <td>2.731439</td>\n",
       "      <td>2.632635</td>\n",
       "      <td>...</td>\n",
       "      <td>3.310849</td>\n",
       "      <td>2.814221</td>\n",
       "      <td>2.452596</td>\n",
       "      <td>2.573080</td>\n",
       "      <td>2.607405</td>\n",
       "      <td>2.613183</td>\n",
       "      <td>2.556937</td>\n",
       "      <td>3.134644</td>\n",
       "      <td>2.838427</td>\n",
       "      <td>3.274703</td>\n",
       "    </tr>\n",
       "    <tr>\n",
       "      <th>4</th>\n",
       "      <td>OTOP2</td>\n",
       "      <td>2.292555</td>\n",
       "      <td>1.972904</td>\n",
       "      <td>2.071156</td>\n",
       "      <td>2.039774</td>\n",
       "      <td>2.126318</td>\n",
       "      <td>2.234433</td>\n",
       "      <td>2.171372</td>\n",
       "      <td>2.484582</td>\n",
       "      <td>2.326744</td>\n",
       "      <td>...</td>\n",
       "      <td>2.313729</td>\n",
       "      <td>2.491032</td>\n",
       "      <td>2.031278</td>\n",
       "      <td>2.269346</td>\n",
       "      <td>2.409257</td>\n",
       "      <td>1.975686</td>\n",
       "      <td>2.193042</td>\n",
       "      <td>2.064105</td>\n",
       "      <td>2.725887</td>\n",
       "      <td>2.320664</td>\n",
       "    </tr>\n",
       "  </tbody>\n",
       "</table>\n",
       "<p>5 rows × 217 columns</p>\n",
       "</div>"
      ],
      "text/plain": [
       "       genes  GSM1602801_03_04_2013_B02_3270.CEL  \\\n",
       "0       H3C8                            2.226389   \n",
       "1       H3C8                            2.761263   \n",
       "2       H3C8                            2.432933   \n",
       "3  TNFAIP8L1                            2.700271   \n",
       "4      OTOP2                            2.292555   \n",
       "\n",
       "   GSM1602802_03_04_2013_B06_1793.CEL  GSM1602803_03_04_2013_B07_3252.CEL  \\\n",
       "0                            2.306361                            2.253123   \n",
       "1                            2.359946                            2.725688   \n",
       "2                            2.224459                            2.400713   \n",
       "3                            2.325374                            2.495166   \n",
       "4                            1.972904                            2.071156   \n",
       "\n",
       "   GSM1602804_03_04_2013_B08_3242.CEL  GSM1602805_03_04_2013_C08_2736.CEL  \\\n",
       "0                            2.123169                            2.434243   \n",
       "1                            2.657941                            2.832263   \n",
       "2                            2.311345                            2.126898   \n",
       "3                            2.773752                            3.007053   \n",
       "4                            2.039774                            2.126318   \n",
       "\n",
       "   GSM1602806_03_04_2013_E06_526.CEL  GSM1602808_03_04_2013_F02_2618.CEL  \\\n",
       "0                           2.151831                            2.261930   \n",
       "1                           2.603070                            2.683711   \n",
       "2                           2.358452                            2.281713   \n",
       "3                           2.777180                            2.839187   \n",
       "4                           2.234433                            2.171372   \n",
       "\n",
       "   GSM1602810_03_04_2013_G07_3147.CEL  GSM1602811_03_04_2013_H02_2404.CEL  \\\n",
       "0                            2.286426                            2.212464   \n",
       "1                            2.391393                            3.139401   \n",
       "2                            2.518797                            2.481215   \n",
       "3                            2.731439                            2.632635   \n",
       "4                            2.484582                            2.326744   \n",
       "\n",
       "   ...  GSM1692427_22_01_2013_B10_2739656.CEL  \\\n",
       "0  ...                               2.529478   \n",
       "1  ...                               2.535944   \n",
       "2  ...                               2.531517   \n",
       "3  ...                               3.310849   \n",
       "4  ...                               2.313729   \n",
       "\n",
       "   GSM1692429_22_01_2013_C02_2295511.CEL  GSM1692430_22_01_2013_C05_1550.CEL  \\\n",
       "0                               2.372678                            2.450773   \n",
       "1                               2.114600                            2.356066   \n",
       "2                               2.311668                            2.286395   \n",
       "3                               2.814221                            2.452596   \n",
       "4                               2.491032                            2.031278   \n",
       "\n",
       "   GSM1692443_22_01_2013_F06_2337277.CEL  \\\n",
       "0                               2.406044   \n",
       "1                               2.615030   \n",
       "2                               2.490969   \n",
       "3                               2.573080   \n",
       "4                               2.269346   \n",
       "\n",
       "   GSM1692452_22_01_2013_H08_2079564.CEL  \\\n",
       "0                               2.574771   \n",
       "1                               2.586535   \n",
       "2                               3.044778   \n",
       "3                               2.607405   \n",
       "4                               2.409257   \n",
       "\n",
       "   GSM1692455_26_03_2013_A03_2792222.CEL  \\\n",
       "0                               2.422820   \n",
       "1                               2.881207   \n",
       "2                               2.165541   \n",
       "3                               2.613183   \n",
       "4                               1.975686   \n",
       "\n",
       "   GSM1692482_27_03_2013_C03_2803146.CEL  \\\n",
       "0                               2.494932   \n",
       "1                               3.740656   \n",
       "2                               3.202541   \n",
       "3                               2.556937   \n",
       "4                               2.193042   \n",
       "\n",
       "   GSM1692489_27_03_2013_D10_2849655.CEL  \\\n",
       "0                               2.257758   \n",
       "1                               2.795182   \n",
       "2                               2.265927   \n",
       "3                               3.134644   \n",
       "4                               2.064105   \n",
       "\n",
       "   GSM1692492_27_03_2013_E04_2575353.CEL  \\\n",
       "0                               2.327790   \n",
       "1                               2.889858   \n",
       "2                               2.538030   \n",
       "3                               2.838427   \n",
       "4                               2.725887   \n",
       "\n",
       "   GSM1692498_27_03_2013_F02_2904613.CEL  \n",
       "0                               3.252404  \n",
       "1                               2.166293  \n",
       "2                               3.099365  \n",
       "3                               3.274703  \n",
       "4                               2.320664  \n",
       "\n",
       "[5 rows x 217 columns]"
      ]
     },
     "execution_count": 29,
     "metadata": {},
     "output_type": "execute_result"
    }
   ],
   "source": [
    "exp.head(5)"
   ]
  },
  {
   "cell_type": "code",
   "execution_count": 113,
   "metadata": {},
   "outputs": [],
   "source": [
    "platform['Entrez Gene'] = [gene.split(' /// ')[0] for gene in platform['Entrez Gene']]\n",
    "probe2gene_mapping = dict(zip(platform.index, platform['Entrez Gene']))"
   ]
  },
  {
   "cell_type": "code",
   "execution_count": 114,
   "metadata": {},
   "outputs": [],
   "source": [
    "exp['genes'] = exp['genes'].map(probe2gene_mapping)"
   ]
  },
  {
   "cell_type": "code",
   "execution_count": 116,
   "metadata": {},
   "outputs": [],
   "source": [
    "exp = exp[exp.genes != '---']"
   ]
  },
  {
   "cell_type": "code",
   "execution_count": 119,
   "metadata": {},
   "outputs": [],
   "source": [
    "exp.to_csv('../data/GSE65682/exp.txt', sep='\\t', index=False)"
   ]
  },
  {
   "cell_type": "code",
   "execution_count": 6,
   "metadata": {},
   "outputs": [
    {
     "ename": "NameError",
     "evalue": "name 'root' is not defined",
     "output_type": "error",
     "traceback": [
      "\u001b[0;31m---------------------------------------------------------------------------\u001b[0m",
      "\u001b[0;31mNameError\u001b[0m                                 Traceback (most recent call last)",
      "\u001b[0;32m<ipython-input-6-be22d6cf45ee>\u001b[0m in \u001b[0;36m<module>\u001b[0;34m\u001b[0m\n\u001b[1;32m      3\u001b[0m \u001b[0;32mfor\u001b[0m \u001b[0mi\u001b[0m \u001b[0;32min\u001b[0m \u001b[0mtags\u001b[0m\u001b[0;34m:\u001b[0m\u001b[0;34m\u001b[0m\u001b[0;34m\u001b[0m\u001b[0m\n\u001b[1;32m      4\u001b[0m     \u001b[0mtemp_lst\u001b[0m \u001b[0;34m=\u001b[0m \u001b[0;34m[\u001b[0m\u001b[0;34m]\u001b[0m\u001b[0;34m\u001b[0m\u001b[0;34m\u001b[0m\u001b[0m\n\u001b[0;32m----> 5\u001b[0;31m     \u001b[0;32mfor\u001b[0m \u001b[0mchar\u001b[0m \u001b[0;32min\u001b[0m \u001b[0mroot\u001b[0m\u001b[0;34m.\u001b[0m\u001b[0mfindall\u001b[0m\u001b[0;34m(\u001b[0m\u001b[0;34mf\"./namespace:Sample/namespace:Channel/namespace:Characteristics[@tag='{i}']\"\u001b[0m\u001b[0;34m,\u001b[0m \u001b[0mns\u001b[0m\u001b[0;34m)\u001b[0m\u001b[0;34m:\u001b[0m\u001b[0;34m\u001b[0m\u001b[0;34m\u001b[0m\u001b[0m\n\u001b[0m\u001b[1;32m      6\u001b[0m         \u001b[0mtemp_var\u001b[0m \u001b[0;34m=\u001b[0m \u001b[0mchar\u001b[0m\u001b[0;34m.\u001b[0m\u001b[0mtext\u001b[0m\u001b[0;34m.\u001b[0m\u001b[0mreplace\u001b[0m\u001b[0;34m(\u001b[0m\u001b[0;34m'\\n'\u001b[0m\u001b[0;34m,\u001b[0m\u001b[0;34m''\u001b[0m\u001b[0;34m)\u001b[0m\u001b[0;34m.\u001b[0m\u001b[0mstrip\u001b[0m\u001b[0;34m(\u001b[0m\u001b[0;34m)\u001b[0m\u001b[0;34m\u001b[0m\u001b[0;34m\u001b[0m\u001b[0m\n\u001b[1;32m      7\u001b[0m         \u001b[0mtemp_lst\u001b[0m\u001b[0;34m.\u001b[0m\u001b[0mappend\u001b[0m\u001b[0;34m(\u001b[0m\u001b[0mnp\u001b[0m\u001b[0;34m.\u001b[0m\u001b[0mnan\u001b[0m \u001b[0;32mif\u001b[0m \u001b[0mtemp_var\u001b[0m \u001b[0;34m==\u001b[0m \u001b[0;34m'NA'\u001b[0m \u001b[0;32melse\u001b[0m \u001b[0mtemp_var\u001b[0m\u001b[0;34m)\u001b[0m\u001b[0;34m\u001b[0m\u001b[0;34m\u001b[0m\u001b[0m\n",
      "\u001b[0;31mNameError\u001b[0m: name 'root' is not defined"
     ]
    }
   ],
   "source": [
    "tags = ['pneumonia diagnoses', 'mortality_event_28days', 'time_to_event_28days']\n",
    "\n",
    "for i in tags:\n",
    "    temp_lst = []\n",
    "    for char in root.findall(f\"./namespace:Sample/namespace:Channel/namespace:Characteristics[@tag='{i}']\", ns):\n",
    "        temp_var = char.text.replace('\\n','').strip()\n",
    "        temp_lst.append(np.nan if temp_var == 'NA' else temp_var)\n",
    "    design_raw[f'{i}'] = temp_lst"
   ]
  },
  {
   "cell_type": "code",
   "execution_count": 80,
   "metadata": {},
   "outputs": [
    {
     "data": {
      "text/plain": [
       "Counter({'no-cap': 33, 'cap': 108, nan: 577, 'hap': 84})"
      ]
     },
     "execution_count": 80,
     "metadata": {},
     "output_type": "execute_result"
    }
   ],
   "source": [
    "Counter(design_raw['pneumonia diagnoses'].tolist())"
   ]
  },
  {
   "cell_type": "code",
   "execution_count": 82,
   "metadata": {},
   "outputs": [],
   "source": [
    "design_matrix = design_raw[design_raw['pneumonia diagnoses'].isin(('cap', 'no-cap', 'hap'))].copy()"
   ]
  },
  {
   "cell_type": "code",
   "execution_count": 83,
   "metadata": {},
   "outputs": [
    {
     "data": {
      "text/plain": [
       "Counter({'no-cap': 33, 'cap': 108, 'hap': 84})"
      ]
     },
     "execution_count": 83,
     "metadata": {},
     "output_type": "execute_result"
    }
   ],
   "source": [
    "from collections import Counter\n",
    "Counter(design_matrix['pneumonia diagnoses'].tolist())"
   ]
  },
  {
   "cell_type": "code",
   "execution_count": 84,
   "metadata": {},
   "outputs": [],
   "source": [
    "survivor_mapping = {np.nan:np.nan, '0':'SS', '1':'SNS'}\n",
    "control_mapping = {'no-cap':'control'}\n",
    "design_matrix['Target'] = design_matrix['mortality_event_28days'].map(survivor_mapping)\n",
    "design_matrix['Control'] = design_matrix['pneumonia diagnoses'].map(control_mapping)"
   ]
  },
  {
   "cell_type": "code",
   "execution_count": 89,
   "metadata": {},
   "outputs": [],
   "source": [
    "final_design = pd.DataFrame(data = design_matrix.FileName, columns=['FileName'])"
   ]
  },
  {
   "cell_type": "code",
   "execution_count": 90,
   "metadata": {},
   "outputs": [],
   "source": [
    "final_design['Target'] = pd.concat([design_matrix['Target'].dropna(), design_matrix['Control'].dropna()]).reindex_like(design_matrix).tolist()"
   ]
  },
  {
   "cell_type": "code",
   "execution_count": 104,
   "metadata": {},
   "outputs": [],
   "source": [
    "final_design = final_design[~final_design.Target.isna()]"
   ]
  },
  {
   "cell_type": "code",
   "execution_count": 105,
   "metadata": {},
   "outputs": [],
   "source": [
    "final_design.reset_index(inplace=True, drop=True)"
   ]
  },
  {
   "cell_type": "code",
   "execution_count": null,
   "metadata": {},
   "outputs": [],
   "source": [
    "final_design.head()"
   ]
  },
  {
   "cell_type": "code",
   "execution_count": 109,
   "metadata": {},
   "outputs": [],
   "source": [
    "final_design.to_csv('../data/GSE65682/targets.txt', sep='\\t')"
   ]
  },
  {
   "cell_type": "markdown",
   "metadata": {},
   "source": [
    "## TCGA_LIHC"
   ]
  },
  {
   "cell_type": "code",
   "execution_count": 2,
   "metadata": {},
   "outputs": [],
   "source": [
    "target_raw = pd.read_csv('../data/tcga_lihc/lihc_tcga_clinical_data.tsv', sep='\\t')\n",
    "exp_raw = pd.read_csv('../data/tcga_lihc/exp.txt', sep='\\t')"
   ]
  },
  {
   "cell_type": "code",
   "execution_count": 49,
   "metadata": {},
   "outputs": [],
   "source": [
    "target = pd.DataFrame()\n",
    "target['FileName'] = target_raw['Sample ID']\n",
    "target['Target'] = target_raw['Overall Survival Status']"
   ]
  },
  {
   "cell_type": "code",
   "execution_count": 56,
   "metadata": {},
   "outputs": [],
   "source": [
    "target_nona = target[~target['Target'].isna()]"
   ]
  },
  {
   "cell_type": "code",
   "execution_count": 57,
   "metadata": {},
   "outputs": [
    {
     "data": {
      "text/plain": [
       "Counter({'LIVING': 247, 'DECEASED': 132})"
      ]
     },
     "execution_count": 57,
     "metadata": {},
     "output_type": "execute_result"
    }
   ],
   "source": [
    "Counter(target_nona['Target'])"
   ]
  },
  {
   "cell_type": "code",
   "execution_count": 58,
   "metadata": {},
   "outputs": [],
   "source": [
    "for sample_name in exp_raw.columns:\n",
    "    if '-11A-' in sample_name:\n",
    "        new_row = {'FileName': sample_name[:15], \n",
    "                   'Target': 'Control'\n",
    "                  }\n",
    "        target_nona = target_nona.append(new_row, ignore_index=True)"
   ]
  },
  {
   "cell_type": "code",
   "execution_count": 59,
   "metadata": {},
   "outputs": [
    {
     "data": {
      "text/plain": [
       "Counter({'LIVING': 247, 'DECEASED': 132, 'Control': 50})"
      ]
     },
     "execution_count": 59,
     "metadata": {},
     "output_type": "execute_result"
    }
   ],
   "source": [
    "Counter(target_nona['Target'])"
   ]
  },
  {
   "cell_type": "code",
   "execution_count": 60,
   "metadata": {},
   "outputs": [
    {
     "data": {
      "text/plain": [
       "(429, 421)"
      ]
     },
     "execution_count": 60,
     "metadata": {},
     "output_type": "execute_result"
    }
   ],
   "source": [
    "len(target_nona['FileName']), len(exp_raw.columns)"
   ]
  },
  {
   "cell_type": "code",
   "execution_count": 61,
   "metadata": {},
   "outputs": [
    {
     "data": {
      "text/plain": [
       "(421, 421)"
      ]
     },
     "execution_count": 61,
     "metadata": {},
     "output_type": "execute_result"
    }
   ],
   "source": [
    "for row in target_nona.copy().index:\n",
    "    if target_nona.at[row, 'FileName'] not in [col[:15] for col in exp_raw.columns]:\n",
    "        target_nona.drop(index=row, inplace=True)\n",
    "len(target_nona['FileName']), len(exp_raw.columns)"
   ]
  },
  {
   "cell_type": "code",
   "execution_count": 62,
   "metadata": {},
   "outputs": [],
   "source": [
    "target_nona.to_csv('targets.txt', sep='\\t')"
   ]
  },
  {
   "cell_type": "markdown",
   "metadata": {},
   "source": [
    "## TCGA_BRCA"
   ]
  },
  {
   "cell_type": "code",
   "execution_count": 7,
   "metadata": {},
   "outputs": [],
   "source": [
    "target_raw = pd.read_csv('../data/tcga_brca/brca_subtypes_matrix.txt', sep=',', index_col=0)\n",
    "exp_raw = pd.read_csv('../data/tcga_brca/expression_matrix_full.txt', sep='\\t')"
   ]
  },
  {
   "cell_type": "code",
   "execution_count": 17,
   "metadata": {},
   "outputs": [],
   "source": [
    "target_raw['subtype'] = target_raw['subtype'].where(~target_raw['subtype'].isna(), \"Control\")\n",
    "target_raw.drop(columns='tumor', inplace=True)"
   ]
  },
  {
   "cell_type": "code",
   "execution_count": 22,
   "metadata": {},
   "outputs": [
    {
     "data": {
      "text/plain": [
       "(1215, 1215)"
      ]
     },
     "execution_count": 22,
     "metadata": {},
     "output_type": "execute_result"
    }
   ],
   "source": [
    "for row in target_raw.index:\n",
    "    if target_raw.at[row, 'barcode'] not in exp_raw.columns:\n",
    "        target_raw.drop(index=row, inplace=True)\n",
    "len(target_raw), len(exp_raw.columns)"
   ]
  },
  {
   "cell_type": "code",
   "execution_count": 27,
   "metadata": {},
   "outputs": [],
   "source": [
    "target_raw.columns = ['FileName', 'Target']\n",
    "target = target_raw.reset_index(drop=True)"
   ]
  },
  {
   "cell_type": "code",
   "execution_count": 29,
   "metadata": {},
   "outputs": [],
   "source": [
    "target.to_csv('../data/tcga_brca/targets.txt', sep='\\t')"
   ]
  },
  {
   "cell_type": "markdown",
   "metadata": {},
   "source": [
    "## HIPPIE Data"
   ]
  },
  {
   "cell_type": "code",
   "execution_count": 5,
   "metadata": {},
   "outputs": [],
   "source": [
    "kg_raw = pd.read_csv('../data/kg/HIPPIE-current.mitab.txt', sep='\\t')"
   ]
  },
  {
   "cell_type": "code",
   "execution_count": 6,
   "metadata": {},
   "outputs": [],
   "source": [
    "kg = pd.DataFrame()\n",
    "kg['Source'] = kg_raw['Gene Name Interactor A']\n",
    "kg['Conf_Val'] = kg_raw['Confidence Value']\n",
    "kg['Target'] = kg_raw['Gene Name Interactor B']"
   ]
  },
  {
   "cell_type": "code",
   "execution_count": 7,
   "metadata": {},
   "outputs": [],
   "source": [
    "kg.to_csv('../data/kg/hippie.tsv', sep='\\t', index=False)"
   ]
  }
 ],
 "metadata": {
  "kernelspec": {
   "display_name": "Python 3",
   "language": "python",
   "name": "python3"
  },
  "language_info": {
   "codemirror_mode": {
    "name": "ipython",
    "version": 3
   },
   "file_extension": ".py",
   "mimetype": "text/x-python",
   "name": "python",
   "nbconvert_exporter": "python",
   "pygments_lexer": "ipython3",
   "version": "3.7.4"
  }
 },
 "nbformat": 4,
 "nbformat_minor": 2
}
