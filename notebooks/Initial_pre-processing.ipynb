{
 "cells": [
  {
   "cell_type": "markdown",
   "metadata": {},
   "source": [
    "Initial Pre-Processing notebook"
   ]
  },
  {
   "cell_type": "code",
   "execution_count": 4,
   "metadata": {},
   "outputs": [],
   "source": [
    "import pandas as pd\n",
    "import numpy as np\n",
    "import xml.etree.ElementTree as ET\n",
    "from collections import Counter"
   ]
  },
  {
   "cell_type": "markdown",
   "metadata": {},
   "source": [
    "#### S1 Raw data"
   ]
  },
  {
   "cell_type": "code",
   "execution_count": 3,
   "metadata": {},
   "outputs": [],
   "source": [
    "# targets = pd.read_csv('../data/temp/targets.txt', sep='\\t')\n",
    "lst = [\"septic patient_survivor\", \"septic patient_survivor\", \"septic patient_survivor\", \n",
    "       \"septic patient_survivor\", \"septic patient_survivor\", \"septic patient_survivor\", \n",
    "       \"septic patient_non-survivor\", \"septic patient_non-survivor\", \"septic patient_non-survivor\", \n",
    "       \"septic patient_non-survivor\", \"septic patient_non-survivor\", \"septic patient_non-survivor\", \n",
    "       \"septic patient_survivor\", \"septic patient_survivor\", \"septic patient_non-survivor\", \n",
    "       \"septic patient_non-survivor\", \"septic patient_non-survivor\", \"septic patient_non-survivor\", \n",
    "       \"septic patient_survivor\", \"septic patient_survivor\", \"healthy control\", \n",
    "       \"healthy control\", \"healthy control\"]\n",
    "# targets['Target'] = lst"
   ]
  },
  {
   "cell_type": "code",
   "execution_count": 5,
   "metadata": {},
   "outputs": [
    {
     "data": {
      "text/plain": [
       "Counter({'septic patient_survivor': 10,\n",
       "         'septic patient_non-survivor': 10,\n",
       "         'healthy control': 3})"
      ]
     },
     "execution_count": 5,
     "metadata": {},
     "output_type": "execute_result"
    }
   ],
   "source": [
    "Counter(lst)"
   ]
  },
  {
   "cell_type": "code",
   "execution_count": 12,
   "metadata": {},
   "outputs": [],
   "source": [
    "targets.to_csv('targets.txt', sep='\\t')"
   ]
  },
  {
   "cell_type": "markdown",
   "metadata": {},
   "source": [
    "#### S2 Raw data"
   ]
  },
  {
   "cell_type": "code",
   "execution_count": 6,
   "metadata": {},
   "outputs": [],
   "source": [
    "design_raw = pd.read_csv('../data/E-MTAB-5273/E-MTAB-5273.sdrf.txt', sep='\\t')\n",
    "adf_design = pd.read_csv('../data/E-MTAB-5273/A-MEXP-2210.adf.txt', \n",
    "                         sep='\\t', usecols=['Reporter Name','Reporter Database Entry[hugo]']\n",
    "                        )\n",
    "adf_design['Reporter Name'] = adf_design['Reporter Name'].map(lambda x: x[len('ILMN_'):])"
   ]
  },
  {
   "cell_type": "code",
   "execution_count": 7,
   "metadata": {},
   "outputs": [],
   "source": [
    "id2gene = dict(zip(adf_design['Reporter Name'], adf_design['Reporter Database Entry[hugo]']))"
   ]
  },
  {
   "cell_type": "code",
   "execution_count": 8,
   "metadata": {},
   "outputs": [],
   "source": [
    "design_matrix = design_raw[['Source Name', \n",
    "                            'Characteristics[disease]', \n",
    "                            'Characteristics[clinical information]'\n",
    "                          ]].copy()\n",
    "design_matrix = design_matrix.rename({'Characteristics[disease]': 'disease', \n",
    "                                      'Characteristics[clinical information]': 'clinical information',\n",
    "                                      'Source Name': 'Source_Name'}, \n",
    "                                     axis=1)"
   ]
  },
  {
   "cell_type": "code",
   "execution_count": 9,
   "metadata": {},
   "outputs": [
    {
     "data": {
      "text/html": [
       "<div>\n",
       "<style scoped>\n",
       "    .dataframe tbody tr th:only-of-type {\n",
       "        vertical-align: middle;\n",
       "    }\n",
       "\n",
       "    .dataframe tbody tr th {\n",
       "        vertical-align: top;\n",
       "    }\n",
       "\n",
       "    .dataframe thead th {\n",
       "        text-align: right;\n",
       "    }\n",
       "</style>\n",
       "<table border=\"1\" class=\"dataframe\">\n",
       "  <thead>\n",
       "    <tr style=\"text-align: right;\">\n",
       "      <th></th>\n",
       "      <th>Source_Name</th>\n",
       "      <th>disease</th>\n",
       "      <th>clinical information</th>\n",
       "    </tr>\n",
       "  </thead>\n",
       "  <tbody>\n",
       "    <tr>\n",
       "      <td>0</td>\n",
       "      <td>CAP0003.B.1</td>\n",
       "      <td>community-acquired pneumonia</td>\n",
       "      <td>alive at 28 day survival</td>\n",
       "    </tr>\n",
       "    <tr>\n",
       "      <td>1</td>\n",
       "      <td>CAP0003.B.3</td>\n",
       "      <td>community-acquired pneumonia</td>\n",
       "      <td>alive at 28 day survival</td>\n",
       "    </tr>\n",
       "    <tr>\n",
       "      <td>2</td>\n",
       "      <td>CAP0003.B.5</td>\n",
       "      <td>community-acquired pneumonia</td>\n",
       "      <td>alive at 28 day survival</td>\n",
       "    </tr>\n",
       "    <tr>\n",
       "      <td>3</td>\n",
       "      <td>CAP0004.B</td>\n",
       "      <td>community-acquired pneumonia</td>\n",
       "      <td>alive at 28 day survival</td>\n",
       "    </tr>\n",
       "    <tr>\n",
       "      <td>4</td>\n",
       "      <td>CAP0013.B</td>\n",
       "      <td>community-acquired pneumonia</td>\n",
       "      <td>alive at 28 day survival</td>\n",
       "    </tr>\n",
       "    <tr>\n",
       "      <td>...</td>\n",
       "      <td>...</td>\n",
       "      <td>...</td>\n",
       "      <td>...</td>\n",
       "    </tr>\n",
       "    <tr>\n",
       "      <td>135</td>\n",
       "      <td>CON0006</td>\n",
       "      <td>normal</td>\n",
       "      <td>NaN</td>\n",
       "    </tr>\n",
       "    <tr>\n",
       "      <td>136</td>\n",
       "      <td>CON0007</td>\n",
       "      <td>normal</td>\n",
       "      <td>NaN</td>\n",
       "    </tr>\n",
       "    <tr>\n",
       "      <td>137</td>\n",
       "      <td>CON0008</td>\n",
       "      <td>normal</td>\n",
       "      <td>NaN</td>\n",
       "    </tr>\n",
       "    <tr>\n",
       "      <td>138</td>\n",
       "      <td>CON0009</td>\n",
       "      <td>normal</td>\n",
       "      <td>NaN</td>\n",
       "    </tr>\n",
       "    <tr>\n",
       "      <td>139</td>\n",
       "      <td>CON0010</td>\n",
       "      <td>normal</td>\n",
       "      <td>NaN</td>\n",
       "    </tr>\n",
       "  </tbody>\n",
       "</table>\n",
       "<p>140 rows × 3 columns</p>\n",
       "</div>"
      ],
      "text/plain": [
       "     Source_Name                       disease      clinical information\n",
       "0    CAP0003.B.1  community-acquired pneumonia  alive at 28 day survival\n",
       "1    CAP0003.B.3  community-acquired pneumonia  alive at 28 day survival\n",
       "2    CAP0003.B.5  community-acquired pneumonia  alive at 28 day survival\n",
       "3      CAP0004.B  community-acquired pneumonia  alive at 28 day survival\n",
       "4      CAP0013.B  community-acquired pneumonia  alive at 28 day survival\n",
       "..           ...                           ...                       ...\n",
       "135      CON0006                        normal                       NaN\n",
       "136      CON0007                        normal                       NaN\n",
       "137      CON0008                        normal                       NaN\n",
       "138      CON0009                        normal                       NaN\n",
       "139      CON0010                        normal                       NaN\n",
       "\n",
       "[140 rows x 3 columns]"
      ]
     },
     "execution_count": 9,
     "metadata": {},
     "output_type": "execute_result"
    }
   ],
   "source": [
    "design_matrix = design_matrix[design_matrix.disease != 'faecal peritonitis']\n",
    "design_matrix"
   ]
  },
  {
   "cell_type": "markdown",
   "metadata": {},
   "source": [
    "These 3 ID's are not available in the expression data"
   ]
  },
  {
   "cell_type": "code",
   "execution_count": 10,
   "metadata": {},
   "outputs": [],
   "source": [
    "design_matrix = design_matrix[~design_matrix.Source_Name.isin(('CAP0056.B.5', 'CAP0140.B.5', 'CAP0383'))].copy()"
   ]
  },
  {
   "cell_type": "code",
   "execution_count": 11,
   "metadata": {},
   "outputs": [
    {
     "data": {
      "text/html": [
       "<div>\n",
       "<style scoped>\n",
       "    .dataframe tbody tr th:only-of-type {\n",
       "        vertical-align: middle;\n",
       "    }\n",
       "\n",
       "    .dataframe tbody tr th {\n",
       "        vertical-align: top;\n",
       "    }\n",
       "\n",
       "    .dataframe thead th {\n",
       "        text-align: right;\n",
       "    }\n",
       "</style>\n",
       "<table border=\"1\" class=\"dataframe\">\n",
       "  <thead>\n",
       "    <tr style=\"text-align: right;\">\n",
       "      <th></th>\n",
       "      <th>Source_Name</th>\n",
       "      <th>Target</th>\n",
       "    </tr>\n",
       "  </thead>\n",
       "  <tbody>\n",
       "    <tr>\n",
       "      <td>0</td>\n",
       "      <td>CAP0003.B.1</td>\n",
       "      <td>SS</td>\n",
       "    </tr>\n",
       "    <tr>\n",
       "      <td>1</td>\n",
       "      <td>CAP0003.B.3</td>\n",
       "      <td>SS</td>\n",
       "    </tr>\n",
       "    <tr>\n",
       "      <td>2</td>\n",
       "      <td>CAP0003.B.5</td>\n",
       "      <td>SS</td>\n",
       "    </tr>\n",
       "    <tr>\n",
       "      <td>3</td>\n",
       "      <td>CAP0004.B</td>\n",
       "      <td>SS</td>\n",
       "    </tr>\n",
       "    <tr>\n",
       "      <td>4</td>\n",
       "      <td>CAP0013.B</td>\n",
       "      <td>SS</td>\n",
       "    </tr>\n",
       "    <tr>\n",
       "      <td>...</td>\n",
       "      <td>...</td>\n",
       "      <td>...</td>\n",
       "    </tr>\n",
       "    <tr>\n",
       "      <td>135</td>\n",
       "      <td>CON0006</td>\n",
       "      <td>control</td>\n",
       "    </tr>\n",
       "    <tr>\n",
       "      <td>136</td>\n",
       "      <td>CON0007</td>\n",
       "      <td>control</td>\n",
       "    </tr>\n",
       "    <tr>\n",
       "      <td>137</td>\n",
       "      <td>CON0008</td>\n",
       "      <td>control</td>\n",
       "    </tr>\n",
       "    <tr>\n",
       "      <td>138</td>\n",
       "      <td>CON0009</td>\n",
       "      <td>control</td>\n",
       "    </tr>\n",
       "    <tr>\n",
       "      <td>139</td>\n",
       "      <td>CON0010</td>\n",
       "      <td>control</td>\n",
       "    </tr>\n",
       "  </tbody>\n",
       "</table>\n",
       "<p>137 rows × 2 columns</p>\n",
       "</div>"
      ],
      "text/plain": [
       "     Source_Name   Target\n",
       "0    CAP0003.B.1       SS\n",
       "1    CAP0003.B.3       SS\n",
       "2    CAP0003.B.5       SS\n",
       "3      CAP0004.B       SS\n",
       "4      CAP0013.B       SS\n",
       "..           ...      ...\n",
       "135      CON0006  control\n",
       "136      CON0007  control\n",
       "137      CON0008  control\n",
       "138      CON0009  control\n",
       "139      CON0010  control\n",
       "\n",
       "[137 rows x 2 columns]"
      ]
     },
     "execution_count": 11,
     "metadata": {},
     "output_type": "execute_result"
    }
   ],
   "source": [
    "disease_mapping = {np.nan:'control', 'alive at 28 day survival':'SS', 'dead at 28 day survival':'SNS'}\n",
    "design_matrix['Target'] = design_matrix['clinical information'].map(disease_mapping)\n",
    "design_matrix.drop(columns=['disease', 'clinical information'], inplace=True)\n",
    "design_matrix"
   ]
  },
  {
   "cell_type": "code",
   "execution_count": 12,
   "metadata": {},
   "outputs": [
    {
     "data": {
      "text/plain": [
       "Counter({'SS': 98, 'SNS': 29, 'control': 10})"
      ]
     },
     "execution_count": 12,
     "metadata": {},
     "output_type": "execute_result"
    }
   ],
   "source": [
    "Counter(design_matrix.Target)"
   ]
  },
  {
   "cell_type": "code",
   "execution_count": 66,
   "metadata": {},
   "outputs": [],
   "source": [
    "design_matrix.to_csv('../data/E-MTAB-5273/targets.txt', sep='\\t')"
   ]
  },
  {
   "cell_type": "code",
   "execution_count": 112,
   "metadata": {},
   "outputs": [],
   "source": [
    "exp_raw = pd.read_csv('../data/E-MTAB-5273/Burnham_sepsis_discovery_normalised_231.txt', sep='\\t', index_col=0)\n",
    "exp_proc = exp_raw[design_matrix.Source_Name.tolist()].copy()\n",
    "exp_proc['genes'] = exp_proc.index.map(id2gene)"
   ]
  },
  {
   "cell_type": "code",
   "execution_count": 113,
   "metadata": {},
   "outputs": [
    {
     "data": {
      "text/html": [
       "<div>\n",
       "<style scoped>\n",
       "    .dataframe tbody tr th:only-of-type {\n",
       "        vertical-align: middle;\n",
       "    }\n",
       "\n",
       "    .dataframe tbody tr th {\n",
       "        vertical-align: top;\n",
       "    }\n",
       "\n",
       "    .dataframe thead th {\n",
       "        text-align: right;\n",
       "    }\n",
       "</style>\n",
       "<table border=\"1\" class=\"dataframe\">\n",
       "  <thead>\n",
       "    <tr style=\"text-align: right;\">\n",
       "      <th></th>\n",
       "      <th>CAP0003.B.1</th>\n",
       "      <th>CAP0003.B.3</th>\n",
       "      <th>CAP0003.B.5</th>\n",
       "      <th>CAP0004.B</th>\n",
       "      <th>CAP0013.B</th>\n",
       "      <th>CAP0015.B</th>\n",
       "      <th>CAP0017.B.1</th>\n",
       "      <th>CAP0017.B.5</th>\n",
       "      <th>CAP0020.B</th>\n",
       "      <th>CAP0022.B</th>\n",
       "      <th>...</th>\n",
       "      <th>CON0001</th>\n",
       "      <th>CON0002</th>\n",
       "      <th>CON0003</th>\n",
       "      <th>CON0004</th>\n",
       "      <th>CON0005</th>\n",
       "      <th>CON0006</th>\n",
       "      <th>CON0007</th>\n",
       "      <th>CON0008</th>\n",
       "      <th>CON0009</th>\n",
       "      <th>CON0010</th>\n",
       "    </tr>\n",
       "    <tr>\n",
       "      <th>ProbeID</th>\n",
       "      <th></th>\n",
       "      <th></th>\n",
       "      <th></th>\n",
       "      <th></th>\n",
       "      <th></th>\n",
       "      <th></th>\n",
       "      <th></th>\n",
       "      <th></th>\n",
       "      <th></th>\n",
       "      <th></th>\n",
       "      <th></th>\n",
       "      <th></th>\n",
       "      <th></th>\n",
       "      <th></th>\n",
       "      <th></th>\n",
       "      <th></th>\n",
       "      <th></th>\n",
       "      <th></th>\n",
       "      <th></th>\n",
       "      <th></th>\n",
       "      <th></th>\n",
       "    </tr>\n",
       "  </thead>\n",
       "  <tbody>\n",
       "    <tr>\n",
       "      <td>6450255</td>\n",
       "      <td>5.869515</td>\n",
       "      <td>5.874574</td>\n",
       "      <td>5.545272</td>\n",
       "      <td>6.309058</td>\n",
       "      <td>5.982874</td>\n",
       "      <td>6.068814</td>\n",
       "      <td>6.048042</td>\n",
       "      <td>5.598508</td>\n",
       "      <td>5.831552</td>\n",
       "      <td>6.190745</td>\n",
       "      <td>...</td>\n",
       "      <td>6.062548</td>\n",
       "      <td>5.664449</td>\n",
       "      <td>5.991724</td>\n",
       "      <td>6.197618</td>\n",
       "      <td>5.700660</td>\n",
       "      <td>5.772600</td>\n",
       "      <td>6.057904</td>\n",
       "      <td>5.888936</td>\n",
       "      <td>5.569821</td>\n",
       "      <td>5.705339</td>\n",
       "    </tr>\n",
       "    <tr>\n",
       "      <td>2570615</td>\n",
       "      <td>6.367828</td>\n",
       "      <td>5.927608</td>\n",
       "      <td>5.780757</td>\n",
       "      <td>6.218092</td>\n",
       "      <td>5.996902</td>\n",
       "      <td>6.233710</td>\n",
       "      <td>6.351661</td>\n",
       "      <td>5.686366</td>\n",
       "      <td>5.898212</td>\n",
       "      <td>5.866858</td>\n",
       "      <td>...</td>\n",
       "      <td>5.562242</td>\n",
       "      <td>6.076635</td>\n",
       "      <td>6.060375</td>\n",
       "      <td>5.691560</td>\n",
       "      <td>5.686096</td>\n",
       "      <td>5.853170</td>\n",
       "      <td>6.005532</td>\n",
       "      <td>5.970979</td>\n",
       "      <td>5.912448</td>\n",
       "      <td>5.643596</td>\n",
       "    </tr>\n",
       "    <tr>\n",
       "      <td>2000519</td>\n",
       "      <td>6.253729</td>\n",
       "      <td>5.957813</td>\n",
       "      <td>5.897107</td>\n",
       "      <td>6.309058</td>\n",
       "      <td>6.132696</td>\n",
       "      <td>6.041685</td>\n",
       "      <td>6.020529</td>\n",
       "      <td>5.898557</td>\n",
       "      <td>6.017853</td>\n",
       "      <td>6.042999</td>\n",
       "      <td>...</td>\n",
       "      <td>5.510514</td>\n",
       "      <td>6.158226</td>\n",
       "      <td>6.069921</td>\n",
       "      <td>5.728501</td>\n",
       "      <td>5.729353</td>\n",
       "      <td>5.905035</td>\n",
       "      <td>5.933458</td>\n",
       "      <td>5.999184</td>\n",
       "      <td>5.568004</td>\n",
       "      <td>5.838481</td>\n",
       "    </tr>\n",
       "    <tr>\n",
       "      <td>7050209</td>\n",
       "      <td>5.533996</td>\n",
       "      <td>5.657911</td>\n",
       "      <td>5.569660</td>\n",
       "      <td>5.783038</td>\n",
       "      <td>5.843885</td>\n",
       "      <td>6.131271</td>\n",
       "      <td>6.462140</td>\n",
       "      <td>5.581942</td>\n",
       "      <td>5.647566</td>\n",
       "      <td>5.923552</td>\n",
       "      <td>...</td>\n",
       "      <td>5.881739</td>\n",
       "      <td>5.614365</td>\n",
       "      <td>5.983666</td>\n",
       "      <td>5.893732</td>\n",
       "      <td>5.982073</td>\n",
       "      <td>6.254991</td>\n",
       "      <td>6.124156</td>\n",
       "      <td>6.019524</td>\n",
       "      <td>5.726249</td>\n",
       "      <td>4.984725</td>\n",
       "    </tr>\n",
       "    <tr>\n",
       "      <td>1580181</td>\n",
       "      <td>6.026217</td>\n",
       "      <td>6.213358</td>\n",
       "      <td>5.572077</td>\n",
       "      <td>5.780686</td>\n",
       "      <td>6.392451</td>\n",
       "      <td>5.920333</td>\n",
       "      <td>5.448536</td>\n",
       "      <td>5.787356</td>\n",
       "      <td>5.620937</td>\n",
       "      <td>6.190745</td>\n",
       "      <td>...</td>\n",
       "      <td>5.109064</td>\n",
       "      <td>5.844014</td>\n",
       "      <td>6.056539</td>\n",
       "      <td>5.849700</td>\n",
       "      <td>5.769816</td>\n",
       "      <td>5.756296</td>\n",
       "      <td>5.899942</td>\n",
       "      <td>5.530243</td>\n",
       "      <td>5.774312</td>\n",
       "      <td>5.275199</td>\n",
       "    </tr>\n",
       "  </tbody>\n",
       "</table>\n",
       "<p>5 rows × 137 columns</p>\n",
       "</div>"
      ],
      "text/plain": [
       "         CAP0003.B.1  CAP0003.B.3  CAP0003.B.5  CAP0004.B  CAP0013.B  \\\n",
       "ProbeID                                                                \n",
       "6450255     5.869515     5.874574     5.545272   6.309058   5.982874   \n",
       "2570615     6.367828     5.927608     5.780757   6.218092   5.996902   \n",
       "2000519     6.253729     5.957813     5.897107   6.309058   6.132696   \n",
       "7050209     5.533996     5.657911     5.569660   5.783038   5.843885   \n",
       "1580181     6.026217     6.213358     5.572077   5.780686   6.392451   \n",
       "\n",
       "         CAP0015.B  CAP0017.B.1  CAP0017.B.5  CAP0020.B  CAP0022.B  ...  \\\n",
       "ProbeID                                                             ...   \n",
       "6450255   6.068814     6.048042     5.598508   5.831552   6.190745  ...   \n",
       "2570615   6.233710     6.351661     5.686366   5.898212   5.866858  ...   \n",
       "2000519   6.041685     6.020529     5.898557   6.017853   6.042999  ...   \n",
       "7050209   6.131271     6.462140     5.581942   5.647566   5.923552  ...   \n",
       "1580181   5.920333     5.448536     5.787356   5.620937   6.190745  ...   \n",
       "\n",
       "          CON0001   CON0002   CON0003   CON0004   CON0005   CON0006   CON0007  \\\n",
       "ProbeID                                                                         \n",
       "6450255  6.062548  5.664449  5.991724  6.197618  5.700660  5.772600  6.057904   \n",
       "2570615  5.562242  6.076635  6.060375  5.691560  5.686096  5.853170  6.005532   \n",
       "2000519  5.510514  6.158226  6.069921  5.728501  5.729353  5.905035  5.933458   \n",
       "7050209  5.881739  5.614365  5.983666  5.893732  5.982073  6.254991  6.124156   \n",
       "1580181  5.109064  5.844014  6.056539  5.849700  5.769816  5.756296  5.899942   \n",
       "\n",
       "          CON0008   CON0009   CON0010  \n",
       "ProbeID                                \n",
       "6450255  5.888936  5.569821  5.705339  \n",
       "2570615  5.970979  5.912448  5.643596  \n",
       "2000519  5.999184  5.568004  5.838481  \n",
       "7050209  6.019524  5.726249  4.984725  \n",
       "1580181  5.530243  5.774312  5.275199  \n",
       "\n",
       "[5 rows x 137 columns]"
      ]
     },
     "execution_count": 113,
     "metadata": {},
     "output_type": "execute_result"
    }
   ],
   "source": [
    "exp_proc.to_csv('../data/E-MTAB-5273/exp.txt', sep='\\t')\n",
    "exp_proc.head()"
   ]
  },
  {
   "cell_type": "markdown",
   "metadata": {},
   "source": [
    "#### S3 Raw Data"
   ]
  },
  {
   "cell_type": "code",
   "execution_count": 16,
   "metadata": {},
   "outputs": [],
   "source": [
    "design_raw = pd.read_csv('../data/GSE65682/phenodata.txt', sep='\\t')\n",
    "xml = ET.parse('../data/GSE65682/GSE65682_family.xml')\n",
    "ns = {'namespace':'http://www.ncbi.nlm.nih.gov/geo/info/MINiML'}\n",
    "root = xml.getroot()"
   ]
  },
  {
   "cell_type": "code",
   "execution_count": 17,
   "metadata": {},
   "outputs": [],
   "source": [
    "tags = ['pneumonia diagnoses', 'mortality_event_28days', 'time_to_event_28days']\n",
    "\n",
    "temp_lst = []\n",
    "for char in root.findall(\"namespace:Sample\", ns):\n",
    "    temp_lst.append(char.attrib['iid'])\n",
    "data = pd.DataFrame(index=temp_lst)\n",
    "\n",
    "temp_lst = []\n",
    "for char in root.findall(\"./namespace:Sample/namespace:Title\", ns):\n",
    "    temp_lst.append(char.text.replace('\\n','').strip())\n",
    "data['Title'] = temp_lst\n",
    "\n",
    "for i in tags:\n",
    "    temp_lst = []\n",
    "    for char in root.findall(f\"./namespace:Sample/namespace:Channel/namespace:Characteristics[@tag='{i}']\", ns):\n",
    "        temp_var = char.text.replace('\\n','').strip()\n",
    "        temp_lst.append(np.nan if temp_var == 'NA' else temp_var)\n",
    "    data[f'{i}'] = temp_lst"
   ]
  },
  {
   "cell_type": "code",
   "execution_count": 18,
   "metadata": {},
   "outputs": [
    {
     "data": {
      "text/plain": [
       "Counter({'no-cap': 33, 'cap': 108, nan: 577, 'hap': 84})"
      ]
     },
     "execution_count": 18,
     "metadata": {},
     "output_type": "execute_result"
    }
   ],
   "source": [
    "Counter(data['pneumonia diagnoses'].tolist())"
   ]
  },
  {
   "cell_type": "code",
   "execution_count": 20,
   "metadata": {},
   "outputs": [
    {
     "data": {
      "text/plain": [
       "535"
      ]
     },
     "execution_count": 20,
     "metadata": {},
     "output_type": "execute_result"
    }
   ],
   "source": [
    "lst=[]\n",
    "for index, row in data.iterrows():\n",
    "    if pd.isna(row[\"pneumonia diagnoses\"])and 'intensive-care' in row[\"Title\"]:\n",
    "        lst.append(row)\n",
    "len(lst)"
   ]
  },
  {
   "cell_type": "code",
   "execution_count": 64,
   "metadata": {},
   "outputs": [],
   "source": [
    "design_matrix = data[data['pneumonia diagnoses'].isin(('cap', 'no-cap', 'hap'))].copy()"
   ]
  },
  {
   "cell_type": "code",
   "execution_count": 65,
   "metadata": {},
   "outputs": [
    {
     "data": {
      "text/plain": [
       "Counter({'no-cap': 33, 'cap': 108, 'hap': 84})"
      ]
     },
     "execution_count": 65,
     "metadata": {},
     "output_type": "execute_result"
    }
   ],
   "source": [
    "from collections import Counter\n",
    "Counter(design_matrix['pneumonia diagnoses'].tolist())"
   ]
  },
  {
   "cell_type": "code",
   "execution_count": 66,
   "metadata": {},
   "outputs": [],
   "source": [
    "design_matrix.index.name = 'ID'\n",
    "# design_matrix.to_csv('../data/GSE65682/processed.tsv', sep='\\t')"
   ]
  },
  {
   "cell_type": "code",
   "execution_count": 67,
   "metadata": {},
   "outputs": [],
   "source": [
    "survivor_mapping = {np.nan:np.nan, '0':'SS', '1':'SNS'}\n",
    "control_mapping = {'no-cap':'control'}\n",
    "design_matrix['Target'] = design_matrix['mortality_event_28days'].map(disease_mapping)\n",
    "design_matrix['Control'] = design_matrix['pneumonia diagnoses'].map(control_mapping)"
   ]
  },
  {
   "cell_type": "code",
   "execution_count": 68,
   "metadata": {},
   "outputs": [
    {
     "data": {
      "text/html": [
       "<div>\n",
       "<style scoped>\n",
       "    .dataframe tbody tr th:only-of-type {\n",
       "        vertical-align: middle;\n",
       "    }\n",
       "\n",
       "    .dataframe tbody tr th {\n",
       "        vertical-align: top;\n",
       "    }\n",
       "\n",
       "    .dataframe thead th {\n",
       "        text-align: right;\n",
       "    }\n",
       "</style>\n",
       "<table border=\"1\" class=\"dataframe\">\n",
       "  <thead>\n",
       "    <tr style=\"text-align: right;\">\n",
       "      <th></th>\n",
       "      <th>Title</th>\n",
       "      <th>pneumonia diagnoses</th>\n",
       "      <th>mortality_event_28days</th>\n",
       "      <th>time_to_event_28days</th>\n",
       "      <th>Target</th>\n",
       "      <th>Control</th>\n",
       "    </tr>\n",
       "    <tr>\n",
       "      <th>ID</th>\n",
       "      <th></th>\n",
       "      <th></th>\n",
       "      <th></th>\n",
       "      <th></th>\n",
       "      <th></th>\n",
       "      <th></th>\n",
       "    </tr>\n",
       "  </thead>\n",
       "  <tbody>\n",
       "    <tr>\n",
       "      <td>GSM1602801</td>\n",
       "      <td>intensive-care unit patient [03_04_2013_B02_3270]</td>\n",
       "      <td>no-cap</td>\n",
       "      <td>NaN</td>\n",
       "      <td>NaN</td>\n",
       "      <td>NaN</td>\n",
       "      <td>control</td>\n",
       "    </tr>\n",
       "    <tr>\n",
       "      <td>GSM1602802</td>\n",
       "      <td>intensive-care unit patient [03_04_2013_B06_1793]</td>\n",
       "      <td>cap</td>\n",
       "      <td>0</td>\n",
       "      <td>28</td>\n",
       "      <td>SS</td>\n",
       "      <td>NaN</td>\n",
       "    </tr>\n",
       "    <tr>\n",
       "      <td>GSM1602803</td>\n",
       "      <td>intensive-care unit patient [03_04_2013_B07_3252]</td>\n",
       "      <td>cap</td>\n",
       "      <td>0</td>\n",
       "      <td>28</td>\n",
       "      <td>SS</td>\n",
       "      <td>NaN</td>\n",
       "    </tr>\n",
       "    <tr>\n",
       "      <td>GSM1602804</td>\n",
       "      <td>intensive-care unit patient [03_04_2013_B08_3242]</td>\n",
       "      <td>no-cap</td>\n",
       "      <td>NaN</td>\n",
       "      <td>NaN</td>\n",
       "      <td>NaN</td>\n",
       "      <td>control</td>\n",
       "    </tr>\n",
       "    <tr>\n",
       "      <td>GSM1602805</td>\n",
       "      <td>intensive-care unit patient [03_04_2013_C08_2736]</td>\n",
       "      <td>cap</td>\n",
       "      <td>0</td>\n",
       "      <td>28</td>\n",
       "      <td>SS</td>\n",
       "      <td>NaN</td>\n",
       "    </tr>\n",
       "    <tr>\n",
       "      <td>...</td>\n",
       "      <td>...</td>\n",
       "      <td>...</td>\n",
       "      <td>...</td>\n",
       "      <td>...</td>\n",
       "      <td>...</td>\n",
       "      <td>...</td>\n",
       "    </tr>\n",
       "    <tr>\n",
       "      <td>GSM1692485</td>\n",
       "      <td>intensive-care unit patient [27_03_2013_C12_25...</td>\n",
       "      <td>hap</td>\n",
       "      <td>NaN</td>\n",
       "      <td>NaN</td>\n",
       "      <td>NaN</td>\n",
       "      <td>NaN</td>\n",
       "    </tr>\n",
       "    <tr>\n",
       "      <td>GSM1692487</td>\n",
       "      <td>intensive-care unit patient [27_03_2013_D05_28...</td>\n",
       "      <td>hap</td>\n",
       "      <td>NaN</td>\n",
       "      <td>NaN</td>\n",
       "      <td>NaN</td>\n",
       "      <td>NaN</td>\n",
       "    </tr>\n",
       "    <tr>\n",
       "      <td>GSM1692489</td>\n",
       "      <td>intensive-care unit patient [27_03_2013_D10_28...</td>\n",
       "      <td>hap</td>\n",
       "      <td>0</td>\n",
       "      <td>28</td>\n",
       "      <td>SS</td>\n",
       "      <td>NaN</td>\n",
       "    </tr>\n",
       "    <tr>\n",
       "      <td>GSM1692492</td>\n",
       "      <td>intensive-care unit patient [27_03_2013_E04_25...</td>\n",
       "      <td>hap</td>\n",
       "      <td>0</td>\n",
       "      <td>28</td>\n",
       "      <td>SS</td>\n",
       "      <td>NaN</td>\n",
       "    </tr>\n",
       "    <tr>\n",
       "      <td>GSM1692498</td>\n",
       "      <td>intensive-care unit patient [27_03_2013_F02_29...</td>\n",
       "      <td>hap</td>\n",
       "      <td>0</td>\n",
       "      <td>28</td>\n",
       "      <td>SS</td>\n",
       "      <td>NaN</td>\n",
       "    </tr>\n",
       "  </tbody>\n",
       "</table>\n",
       "<p>225 rows × 6 columns</p>\n",
       "</div>"
      ],
      "text/plain": [
       "                                                        Title  \\\n",
       "ID                                                              \n",
       "GSM1602801  intensive-care unit patient [03_04_2013_B02_3270]   \n",
       "GSM1602802  intensive-care unit patient [03_04_2013_B06_1793]   \n",
       "GSM1602803  intensive-care unit patient [03_04_2013_B07_3252]   \n",
       "GSM1602804  intensive-care unit patient [03_04_2013_B08_3242]   \n",
       "GSM1602805  intensive-care unit patient [03_04_2013_C08_2736]   \n",
       "...                                                       ...   \n",
       "GSM1692485  intensive-care unit patient [27_03_2013_C12_25...   \n",
       "GSM1692487  intensive-care unit patient [27_03_2013_D05_28...   \n",
       "GSM1692489  intensive-care unit patient [27_03_2013_D10_28...   \n",
       "GSM1692492  intensive-care unit patient [27_03_2013_E04_25...   \n",
       "GSM1692498  intensive-care unit patient [27_03_2013_F02_29...   \n",
       "\n",
       "           pneumonia diagnoses mortality_event_28days time_to_event_28days  \\\n",
       "ID                                                                           \n",
       "GSM1602801              no-cap                    NaN                  NaN   \n",
       "GSM1602802                 cap                      0                   28   \n",
       "GSM1602803                 cap                      0                   28   \n",
       "GSM1602804              no-cap                    NaN                  NaN   \n",
       "GSM1602805                 cap                      0                   28   \n",
       "...                        ...                    ...                  ...   \n",
       "GSM1692485                 hap                    NaN                  NaN   \n",
       "GSM1692487                 hap                    NaN                  NaN   \n",
       "GSM1692489                 hap                      0                   28   \n",
       "GSM1692492                 hap                      0                   28   \n",
       "GSM1692498                 hap                      0                   28   \n",
       "\n",
       "           Target  Control  \n",
       "ID                          \n",
       "GSM1602801    NaN  control  \n",
       "GSM1602802     SS      NaN  \n",
       "GSM1602803     SS      NaN  \n",
       "GSM1602804    NaN  control  \n",
       "GSM1602805     SS      NaN  \n",
       "...           ...      ...  \n",
       "GSM1692485    NaN      NaN  \n",
       "GSM1692487    NaN      NaN  \n",
       "GSM1692489     SS      NaN  \n",
       "GSM1692492     SS      NaN  \n",
       "GSM1692498     SS      NaN  \n",
       "\n",
       "[225 rows x 6 columns]"
      ]
     },
     "execution_count": 68,
     "metadata": {},
     "output_type": "execute_result"
    }
   ],
   "source": [
    "design_matrix"
   ]
  },
  {
   "cell_type": "code",
   "execution_count": 75,
   "metadata": {},
   "outputs": [
    {
     "data": {
      "text/plain": [
       "Counter({'SNS': 17, 'SS': 60, nan: 7})"
      ]
     },
     "execution_count": 75,
     "metadata": {},
     "output_type": "execute_result"
    }
   ],
   "source": [
    "Counter(design_matrix[design_matrix['pneumonia diagnoses'].str.startswith('hap')].Target)"
   ]
  },
  {
   "cell_type": "code",
   "execution_count": 70,
   "metadata": {},
   "outputs": [
    {
     "data": {
      "text/plain": [
       "Counter({'control': 33, nan: 192})"
      ]
     },
     "execution_count": 70,
     "metadata": {},
     "output_type": "execute_result"
    }
   ],
   "source": [
    "Counter(design_matrix.Control)"
   ]
  },
  {
   "cell_type": "code",
   "execution_count": 72,
   "metadata": {},
   "outputs": [
    {
     "data": {
      "text/plain": [
       "Counter({'cap': 2, 'hap': 7})"
      ]
     },
     "execution_count": 72,
     "metadata": {},
     "output_type": "execute_result"
    }
   ],
   "source": [
    "Counter(design_matrix[design_matrix.Target.isna() & design_matrix.Control.isna()]['pneumonia diagnoses'])"
   ]
  },
  {
   "cell_type": "code",
   "execution_count": null,
   "metadata": {},
   "outputs": [],
   "source": []
  }
 ],
 "metadata": {
  "kernelspec": {
   "display_name": "Python 3",
   "language": "python",
   "name": "python3"
  },
  "language_info": {
   "codemirror_mode": {
    "name": "ipython",
    "version": 3
   },
   "file_extension": ".py",
   "mimetype": "text/x-python",
   "name": "python",
   "nbconvert_exporter": "python",
   "pygments_lexer": "ipython3",
   "version": "3.7.4"
  }
 },
 "nbformat": 4,
 "nbformat_minor": 2
}
