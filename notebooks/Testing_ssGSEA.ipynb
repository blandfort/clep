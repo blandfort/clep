{
 "cells": [
  {
   "cell_type": "code",
   "execution_count": 13,
   "metadata": {},
   "outputs": [],
   "source": [
    "import numpy as np\n",
    "import pandas as pd\n",
    "from sklearn.decomposition import PCA\n",
    "import matplotlib.pyplot as plt\n",
    "from scipy.stats import zscore"
   ]
  },
  {
   "cell_type": "code",
   "execution_count": 14,
   "metadata": {},
   "outputs": [],
   "source": [
    "df = pd.read_csv('testSet_rand1200.gct', sep='\\t')\n",
    "df.drop(columns='Description', inplace=True)"
   ]
  },
  {
   "cell_type": "code",
   "execution_count": 15,
   "metadata": {},
   "outputs": [],
   "source": [
    "if df.index.dtype != 'O':\n",
    "    df.set_index(keys=df.columns[0], inplace=True)\n",
    "df = df.select_dtypes(include=[np.number])\n",
    "df = df.rank(axis=0, method='average', na_option='bottom')\n",
    "df = 10000*df / df.shape[0]"
   ]
  },
  {
   "cell_type": "code",
   "execution_count": 16,
   "metadata": {},
   "outputs": [],
   "source": [
    "def score_tensor(gene_arr):\n",
    "    sarray = []\n",
    "    gene_mean_exp = np.mean(gene_arr)\n",
    "    gene_std_exp = np.std(gene_arr)\n",
    "    sarray = np.subtract(gene_arr, (gene_mean_exp/gene_std_exp))\n",
    "#     for gene_idx, gene_exp in enumerate(gene_arr):\n",
    "#         rem_gene_exp = np.delete(gene_arr, gene_idx)\n",
    "#         rem_cum_exp = np.sum(rem_gene_exp) / len(rem_gene_exp)\n",
    "#         score = gene_exp - rem_cum_exp\n",
    "#         sarray.append(score)\n",
    "    return sarray"
   ]
  },
  {
   "cell_type": "code",
   "execution_count": 17,
   "metadata": {},
   "outputs": [],
   "source": [
    "df1 = pd.DataFrame(index=df.index, columns=df.columns)\n",
    "for _, ser in df.iteritems():\n",
    "    dat = ser.sort_values(ascending=False)\n",
    "    gene_arr = dat.values\n",
    "    scores = score_tensor(gene_arr=gene_arr)\n",
    "    df1[ser.name] = scores"
   ]
  },
  {
   "cell_type": "code",
   "execution_count": 18,
   "metadata": {},
   "outputs": [
    {
     "data": {
      "text/html": [
       "<div>\n",
       "<style scoped>\n",
       "    .dataframe tbody tr th:only-of-type {\n",
       "        vertical-align: middle;\n",
       "    }\n",
       "\n",
       "    .dataframe tbody tr th {\n",
       "        vertical-align: top;\n",
       "    }\n",
       "\n",
       "    .dataframe thead th {\n",
       "        text-align: right;\n",
       "    }\n",
       "</style>\n",
       "<table border=\"1\" class=\"dataframe\">\n",
       "  <thead>\n",
       "    <tr style=\"text-align: right;\">\n",
       "      <th></th>\n",
       "      <th>AA488_A1.2</th>\n",
       "      <th>AA489_A2.2</th>\n",
       "      <th>AA490_A3</th>\n",
       "      <th>AA491_B1</th>\n",
       "      <th>AA492_B2</th>\n",
       "      <th>AA493_B3</th>\n",
       "      <th>AA494_C1.2</th>\n",
       "      <th>AA495_C2</th>\n",
       "      <th>AA496_C3</th>\n",
       "      <th>AA497_D1.2</th>\n",
       "      <th>AA498_D3.2</th>\n",
       "      <th>AA499_D2</th>\n",
       "      <th>AA500_x2</th>\n",
       "      <th>AA501_X3</th>\n",
       "      <th>AA502_X2.2</th>\n",
       "      <th>AA503_Y1</th>\n",
       "      <th>AA504_Y2</th>\n",
       "      <th>AA505_Y3</th>\n",
       "    </tr>\n",
       "    <tr>\n",
       "      <th>NAME</th>\n",
       "      <th></th>\n",
       "      <th></th>\n",
       "      <th></th>\n",
       "      <th></th>\n",
       "      <th></th>\n",
       "      <th></th>\n",
       "      <th></th>\n",
       "      <th></th>\n",
       "      <th></th>\n",
       "      <th></th>\n",
       "      <th></th>\n",
       "      <th></th>\n",
       "      <th></th>\n",
       "      <th></th>\n",
       "      <th></th>\n",
       "      <th></th>\n",
       "      <th></th>\n",
       "      <th></th>\n",
       "    </tr>\n",
       "  </thead>\n",
       "  <tbody>\n",
       "    <tr>\n",
       "      <td>SCNN1G</td>\n",
       "      <td>9998.266505</td>\n",
       "      <td>9998.266505</td>\n",
       "      <td>9998.266505</td>\n",
       "      <td>9998.266505</td>\n",
       "      <td>9998.266505</td>\n",
       "      <td>9998.266505</td>\n",
       "      <td>9998.266504</td>\n",
       "      <td>9998.266504</td>\n",
       "      <td>9998.266505</td>\n",
       "      <td>9998.266505</td>\n",
       "      <td>9998.266504</td>\n",
       "      <td>9998.266505</td>\n",
       "      <td>9998.266505</td>\n",
       "      <td>9998.266504</td>\n",
       "      <td>9998.266504</td>\n",
       "      <td>9998.266505</td>\n",
       "      <td>9998.266505</td>\n",
       "      <td>9998.266504</td>\n",
       "    </tr>\n",
       "    <tr>\n",
       "      <td>SLC22A9</td>\n",
       "      <td>9989.953953</td>\n",
       "      <td>9989.953953</td>\n",
       "      <td>9989.953953</td>\n",
       "      <td>9989.953953</td>\n",
       "      <td>9989.953953</td>\n",
       "      <td>9989.953953</td>\n",
       "      <td>9989.953952</td>\n",
       "      <td>9989.953952</td>\n",
       "      <td>9989.953953</td>\n",
       "      <td>9989.953953</td>\n",
       "      <td>9989.953952</td>\n",
       "      <td>9989.953953</td>\n",
       "      <td>9989.953953</td>\n",
       "      <td>9989.953952</td>\n",
       "      <td>9989.953952</td>\n",
       "      <td>9989.953953</td>\n",
       "      <td>9989.953953</td>\n",
       "      <td>9989.953952</td>\n",
       "    </tr>\n",
       "    <tr>\n",
       "      <td>RASGRP2</td>\n",
       "      <td>9981.641401</td>\n",
       "      <td>9981.641401</td>\n",
       "      <td>9981.641401</td>\n",
       "      <td>9977.485125</td>\n",
       "      <td>9981.641401</td>\n",
       "      <td>9981.641401</td>\n",
       "      <td>9981.641400</td>\n",
       "      <td>9981.641401</td>\n",
       "      <td>9981.641401</td>\n",
       "      <td>9981.641401</td>\n",
       "      <td>9981.641401</td>\n",
       "      <td>9981.641401</td>\n",
       "      <td>9981.641401</td>\n",
       "      <td>9981.641400</td>\n",
       "      <td>9981.641400</td>\n",
       "      <td>9981.641401</td>\n",
       "      <td>9981.641401</td>\n",
       "      <td>9981.641400</td>\n",
       "    </tr>\n",
       "    <tr>\n",
       "      <td>CAPN3</td>\n",
       "      <td>9973.328849</td>\n",
       "      <td>9973.328849</td>\n",
       "      <td>9973.328849</td>\n",
       "      <td>9977.485125</td>\n",
       "      <td>9973.328849</td>\n",
       "      <td>9973.328849</td>\n",
       "      <td>9973.328848</td>\n",
       "      <td>9973.328849</td>\n",
       "      <td>9973.328849</td>\n",
       "      <td>9973.328849</td>\n",
       "      <td>9973.328849</td>\n",
       "      <td>9973.328849</td>\n",
       "      <td>9973.328849</td>\n",
       "      <td>9973.328849</td>\n",
       "      <td>9973.328848</td>\n",
       "      <td>9973.328849</td>\n",
       "      <td>9969.172573</td>\n",
       "      <td>9973.328848</td>\n",
       "    </tr>\n",
       "    <tr>\n",
       "      <td>ARAP2</td>\n",
       "      <td>9965.016297</td>\n",
       "      <td>9960.860021</td>\n",
       "      <td>9965.016297</td>\n",
       "      <td>9965.016297</td>\n",
       "      <td>9965.016297</td>\n",
       "      <td>9965.016297</td>\n",
       "      <td>9965.016297</td>\n",
       "      <td>9965.016297</td>\n",
       "      <td>9965.016297</td>\n",
       "      <td>9965.016297</td>\n",
       "      <td>9965.016297</td>\n",
       "      <td>9965.016297</td>\n",
       "      <td>9965.016297</td>\n",
       "      <td>9965.016297</td>\n",
       "      <td>9965.016296</td>\n",
       "      <td>9965.016297</td>\n",
       "      <td>9969.172573</td>\n",
       "      <td>9965.016297</td>\n",
       "    </tr>\n",
       "    <tr>\n",
       "      <td>...</td>\n",
       "      <td>...</td>\n",
       "      <td>...</td>\n",
       "      <td>...</td>\n",
       "      <td>...</td>\n",
       "      <td>...</td>\n",
       "      <td>...</td>\n",
       "      <td>...</td>\n",
       "      <td>...</td>\n",
       "      <td>...</td>\n",
       "      <td>...</td>\n",
       "      <td>...</td>\n",
       "      <td>...</td>\n",
       "      <td>...</td>\n",
       "      <td>...</td>\n",
       "      <td>...</td>\n",
       "      <td>...</td>\n",
       "      <td>...</td>\n",
       "      <td>...</td>\n",
       "    </tr>\n",
       "    <tr>\n",
       "      <td>EEF1A1</td>\n",
       "      <td>35.672989</td>\n",
       "      <td>43.985540</td>\n",
       "      <td>39.829265</td>\n",
       "      <td>39.829265</td>\n",
       "      <td>35.672989</td>\n",
       "      <td>39.829265</td>\n",
       "      <td>35.672988</td>\n",
       "      <td>43.985540</td>\n",
       "      <td>39.829264</td>\n",
       "      <td>39.829264</td>\n",
       "      <td>39.829264</td>\n",
       "      <td>39.829265</td>\n",
       "      <td>39.829264</td>\n",
       "      <td>52.298092</td>\n",
       "      <td>39.829264</td>\n",
       "      <td>52.298092</td>\n",
       "      <td>39.829264</td>\n",
       "      <td>35.672988</td>\n",
       "    </tr>\n",
       "    <tr>\n",
       "      <td>RPS10</td>\n",
       "      <td>35.672989</td>\n",
       "      <td>31.516713</td>\n",
       "      <td>31.516713</td>\n",
       "      <td>31.516713</td>\n",
       "      <td>35.672989</td>\n",
       "      <td>31.516713</td>\n",
       "      <td>35.672988</td>\n",
       "      <td>27.360436</td>\n",
       "      <td>31.516713</td>\n",
       "      <td>31.516712</td>\n",
       "      <td>31.516712</td>\n",
       "      <td>27.360437</td>\n",
       "      <td>31.516713</td>\n",
       "      <td>31.516712</td>\n",
       "      <td>31.516712</td>\n",
       "      <td>31.516713</td>\n",
       "      <td>31.516712</td>\n",
       "      <td>35.672988</td>\n",
       "    </tr>\n",
       "    <tr>\n",
       "      <td>RPLP2</td>\n",
       "      <td>23.204161</td>\n",
       "      <td>23.204161</td>\n",
       "      <td>23.204161</td>\n",
       "      <td>23.204161</td>\n",
       "      <td>23.204161</td>\n",
       "      <td>19.047885</td>\n",
       "      <td>23.204160</td>\n",
       "      <td>27.360436</td>\n",
       "      <td>23.204161</td>\n",
       "      <td>23.204160</td>\n",
       "      <td>23.204160</td>\n",
       "      <td>27.360437</td>\n",
       "      <td>23.204161</td>\n",
       "      <td>23.204160</td>\n",
       "      <td>23.204160</td>\n",
       "      <td>23.204161</td>\n",
       "      <td>23.204160</td>\n",
       "      <td>23.204160</td>\n",
       "    </tr>\n",
       "    <tr>\n",
       "      <td>RPL35</td>\n",
       "      <td>14.891609</td>\n",
       "      <td>14.891609</td>\n",
       "      <td>14.891609</td>\n",
       "      <td>14.891609</td>\n",
       "      <td>14.891609</td>\n",
       "      <td>19.047885</td>\n",
       "      <td>14.891608</td>\n",
       "      <td>14.891608</td>\n",
       "      <td>14.891609</td>\n",
       "      <td>14.891609</td>\n",
       "      <td>14.891608</td>\n",
       "      <td>14.891609</td>\n",
       "      <td>14.891609</td>\n",
       "      <td>14.891608</td>\n",
       "      <td>14.891608</td>\n",
       "      <td>14.891609</td>\n",
       "      <td>14.891608</td>\n",
       "      <td>14.891608</td>\n",
       "    </tr>\n",
       "    <tr>\n",
       "      <td>RPL10</td>\n",
       "      <td>6.579057</td>\n",
       "      <td>6.579057</td>\n",
       "      <td>6.579057</td>\n",
       "      <td>6.579057</td>\n",
       "      <td>6.579057</td>\n",
       "      <td>6.579057</td>\n",
       "      <td>6.579056</td>\n",
       "      <td>6.579056</td>\n",
       "      <td>6.579057</td>\n",
       "      <td>6.579057</td>\n",
       "      <td>6.579056</td>\n",
       "      <td>6.579057</td>\n",
       "      <td>6.579057</td>\n",
       "      <td>6.579056</td>\n",
       "      <td>6.579056</td>\n",
       "      <td>6.579057</td>\n",
       "      <td>6.579056</td>\n",
       "      <td>6.579056</td>\n",
       "    </tr>\n",
       "  </tbody>\n",
       "</table>\n",
       "<p>1203 rows × 18 columns</p>\n",
       "</div>"
      ],
      "text/plain": [
       "          AA488_A1.2   AA489_A2.2     AA490_A3     AA491_B1     AA492_B2  \\\n",
       "NAME                                                                       \n",
       "SCNN1G   9998.266505  9998.266505  9998.266505  9998.266505  9998.266505   \n",
       "SLC22A9  9989.953953  9989.953953  9989.953953  9989.953953  9989.953953   \n",
       "RASGRP2  9981.641401  9981.641401  9981.641401  9977.485125  9981.641401   \n",
       "CAPN3    9973.328849  9973.328849  9973.328849  9977.485125  9973.328849   \n",
       "ARAP2    9965.016297  9960.860021  9965.016297  9965.016297  9965.016297   \n",
       "...              ...          ...          ...          ...          ...   \n",
       "EEF1A1     35.672989    43.985540    39.829265    39.829265    35.672989   \n",
       "RPS10      35.672989    31.516713    31.516713    31.516713    35.672989   \n",
       "RPLP2      23.204161    23.204161    23.204161    23.204161    23.204161   \n",
       "RPL35      14.891609    14.891609    14.891609    14.891609    14.891609   \n",
       "RPL10       6.579057     6.579057     6.579057     6.579057     6.579057   \n",
       "\n",
       "            AA493_B3   AA494_C1.2     AA495_C2     AA496_C3   AA497_D1.2  \\\n",
       "NAME                                                                       \n",
       "SCNN1G   9998.266505  9998.266504  9998.266504  9998.266505  9998.266505   \n",
       "SLC22A9  9989.953953  9989.953952  9989.953952  9989.953953  9989.953953   \n",
       "RASGRP2  9981.641401  9981.641400  9981.641401  9981.641401  9981.641401   \n",
       "CAPN3    9973.328849  9973.328848  9973.328849  9973.328849  9973.328849   \n",
       "ARAP2    9965.016297  9965.016297  9965.016297  9965.016297  9965.016297   \n",
       "...              ...          ...          ...          ...          ...   \n",
       "EEF1A1     39.829265    35.672988    43.985540    39.829264    39.829264   \n",
       "RPS10      31.516713    35.672988    27.360436    31.516713    31.516712   \n",
       "RPLP2      19.047885    23.204160    27.360436    23.204161    23.204160   \n",
       "RPL35      19.047885    14.891608    14.891608    14.891609    14.891609   \n",
       "RPL10       6.579057     6.579056     6.579056     6.579057     6.579057   \n",
       "\n",
       "          AA498_D3.2     AA499_D2     AA500_x2     AA501_X3   AA502_X2.2  \\\n",
       "NAME                                                                       \n",
       "SCNN1G   9998.266504  9998.266505  9998.266505  9998.266504  9998.266504   \n",
       "SLC22A9  9989.953952  9989.953953  9989.953953  9989.953952  9989.953952   \n",
       "RASGRP2  9981.641401  9981.641401  9981.641401  9981.641400  9981.641400   \n",
       "CAPN3    9973.328849  9973.328849  9973.328849  9973.328849  9973.328848   \n",
       "ARAP2    9965.016297  9965.016297  9965.016297  9965.016297  9965.016296   \n",
       "...              ...          ...          ...          ...          ...   \n",
       "EEF1A1     39.829264    39.829265    39.829264    52.298092    39.829264   \n",
       "RPS10      31.516712    27.360437    31.516713    31.516712    31.516712   \n",
       "RPLP2      23.204160    27.360437    23.204161    23.204160    23.204160   \n",
       "RPL35      14.891608    14.891609    14.891609    14.891608    14.891608   \n",
       "RPL10       6.579056     6.579057     6.579057     6.579056     6.579056   \n",
       "\n",
       "            AA503_Y1     AA504_Y2     AA505_Y3  \n",
       "NAME                                            \n",
       "SCNN1G   9998.266505  9998.266505  9998.266504  \n",
       "SLC22A9  9989.953953  9989.953953  9989.953952  \n",
       "RASGRP2  9981.641401  9981.641401  9981.641400  \n",
       "CAPN3    9973.328849  9969.172573  9973.328848  \n",
       "ARAP2    9965.016297  9969.172573  9965.016297  \n",
       "...              ...          ...          ...  \n",
       "EEF1A1     52.298092    39.829264    35.672988  \n",
       "RPS10      31.516713    31.516712    35.672988  \n",
       "RPLP2      23.204161    23.204160    23.204160  \n",
       "RPL35      14.891609    14.891608    14.891608  \n",
       "RPL10       6.579057     6.579056     6.579056  \n",
       "\n",
       "[1203 rows x 18 columns]"
      ]
     },
     "execution_count": 18,
     "metadata": {},
     "output_type": "execute_result"
    }
   ],
   "source": [
    "df1"
   ]
  },
  {
   "cell_type": "code",
   "execution_count": 27,
   "metadata": {},
   "outputs": [
    {
     "name": "stdout",
     "output_type": "stream",
     "text": [
      "[2 3 4]\n",
      "[1 3 4]\n",
      "[1 2 4]\n",
      "[1 2 3]\n"
     ]
    }
   ],
   "source": [
    "a = np.array([1, 2, 3, 4])\n",
    "b = a.copy()\n",
    "for gene_idx, gene in enumerate(a):\n",
    "    print(np.delete(a, gene_idx))"
   ]
  },
  {
   "cell_type": "code",
   "execution_count": 51,
   "metadata": {},
   "outputs": [],
   "source": [
    "label = [0]*6\n",
    "label.extend([1]*6)\n",
    "label.extend([2]*6)"
   ]
  },
  {
   "cell_type": "code",
   "execution_count": 63,
   "metadata": {
    "scrolled": true
   },
   "outputs": [],
   "source": [
    "df2 = df1.transpose()\n",
    "Y = pd.DataFrame(data=label, index=df2.index, columns=['label'])"
   ]
  },
  {
   "cell_type": "code",
   "execution_count": 64,
   "metadata": {},
   "outputs": [],
   "source": [
    "pca = PCA(n_components=2)\n",
    "X = pca.fit_transform(df2)"
   ]
  },
  {
   "cell_type": "code",
   "execution_count": 72,
   "metadata": {},
   "outputs": [
    {
     "data": {
      "image/png": "[encoded data removed]",
      "text/plain": [
       "<Figure size 432x288 with 1 Axes>"
      ]
     },
     "metadata": {
      "needs_background": "light"
     },
     "output_type": "display_data"
    }
   ],
   "source": [
    "zero_class = np.where(Y['label']==0)\n",
    "one_class = np.where(Y['label']==1)\n",
    "two_class = np.where(Y['label']==2)\n",
    "plt.scatter(X[:, 0], X[:, 1], s=40, c='gray', edgecolors=(0, 0, 0))\n",
    "plt.scatter(X[zero_class, 0], X[zero_class, 1], s=160, edgecolors='r',\n",
    "            facecolors='none', linewidths=2, label='Class 1')\n",
    "plt.scatter(X[one_class, 0], X[one_class, 1], s=80, edgecolors='g',\n",
    "            facecolors='none', linewidths=2, label='Class 2')\n",
    "plt.scatter(X[two_class, 0], X[two_class, 1], s=80, edgecolors='b',\n",
    "            facecolors='none', linewidths=2, label='Class 3')\n",
    "plt.show()"
   ]
  },
  {
   "cell_type": "code",
   "execution_count": 57,
   "metadata": {},
   "outputs": [
    {
     "name": "stdout",
     "output_type": "stream",
     "text": [
      "(array([], dtype=int64),)\n"
     ]
    }
   ],
   "source": [
    "print(zero_class)"
   ]
  },
  {
   "cell_type": "code",
   "execution_count": 71,
   "metadata": {},
   "outputs": [
    {
     "data": {
      "text/plain": [
       "(array([0, 1, 2, 3, 4, 5]),)"
      ]
     },
     "execution_count": 71,
     "metadata": {},
     "output_type": "execute_result"
    }
   ],
   "source": [
    "np.where(Y['label']==0)"
   ]
  },
  {
   "cell_type": "code",
   "execution_count": 87,
   "metadata": {},
   "outputs": [],
   "source": [
    "df = pd.read_csv('y_ave.tsv', sep='\\t', index_col=0)\n",
    "df = df.transpose()\n",
    "df.drop(index='ControlType', inplace=True)"
   ]
  },
  {
   "cell_type": "code",
   "execution_count": 89,
   "metadata": {},
   "outputs": [],
   "source": [
    "label = [1]*20\n",
    "label.extend([0]*3)\n",
    "Y = pd.DataFrame(data=label, index=df.index, columns=['label'])"
   ]
  },
  {
   "cell_type": "code",
   "execution_count": 91,
   "metadata": {},
   "outputs": [],
   "source": [
    "pca = PCA(n_components=2)\n",
    "X = pca.fit_transform(df)"
   ]
  },
  {
   "cell_type": "code",
   "execution_count": 92,
   "metadata": {},
   "outputs": [
    {
     "data": {
      "image/png": "[encoded data removed]",
      "text/plain": [
       "<Figure size 432x288 with 1 Axes>"
      ]
     },
     "metadata": {
      "needs_background": "light"
     },
     "output_type": "display_data"
    }
   ],
   "source": [
    "zero_class = np.where(Y['label']==0)\n",
    "one_class = np.where(Y['label']==1)\n",
    "plt.scatter(X[:, 0], X[:, 1], s=40, c='gray', edgecolors=(0, 0, 0))\n",
    "plt.scatter(X[zero_class, 0], X[zero_class, 1], s=160, edgecolors='r',\n",
    "            facecolors='none', linewidths=2, label='Class 1')\n",
    "plt.scatter(X[one_class, 0], X[one_class, 1], s=80, edgecolors='g',\n",
    "            facecolors='none', linewidths=2, label='Class 2')\n",
    "plt.show()"
   ]
  },
  {
   "cell_type": "code",
   "execution_count": null,
   "metadata": {},
   "outputs": [],
   "source": [
    "+"
   ]
  }
 ],
 "metadata": {
  "kernelspec": {
   "display_name": "Python 3",
   "language": "python",
   "name": "python3"
  },
  "language_info": {
   "codemirror_mode": {
    "name": "ipython",
    "version": 3
   },
   "file_extension": ".py",
   "mimetype": "text/x-python",
   "name": "python",
   "nbconvert_exporter": "python",
   "pygments_lexer": "ipython3",
   "version": "3.7.4"
  }
 },
 "nbformat": 4,
 "nbformat_minor": 2
}
